{
 "cells": [
  {
   "cell_type": "markdown",
   "metadata": {},
   "source": [
    "# What we'll cover"
   ]
  },
  {
   "cell_type": "markdown",
   "metadata": {},
   "source": [
    "1 Types of probability"
   ]
  },
  {
   "cell_type": "markdown",
   "metadata": {},
   "source": [
    "2 Probability distributions"
   ]
  },
  {
   "cell_type": "markdown",
   "metadata": {},
   "source": [
    "3 Error"
   ]
  },
  {
   "cell_type": "markdown",
   "metadata": {},
   "source": [
    "4 Central Limit Theorem & Confidence Intervals"
   ]
  },
  {
   "cell_type": "markdown",
   "metadata": {},
   "source": [
    "5 Hypothesis testing"
   ]
  },
  {
   "cell_type": "markdown",
   "metadata": {},
   "source": [
    "## Assignment"
   ]
  },
  {
   "cell_type": "code",
   "execution_count": 4,
   "metadata": {
    "collapsed": true
   },
   "outputs": [],
   "source": [
    "shell.exec(\"https://classroom.github.com/assignment-invitations/80d7d687d24fa2d9d5ef0471bf4261f3\")"
   ]
  },
  {
   "cell_type": "markdown",
   "metadata": {},
   "source": [
    "# Start of Day 1"
   ]
  },
  {
   "cell_type": "markdown",
   "metadata": {},
   "source": [
    "# Types of probabilities"
   ]
  },
  {
   "cell_type": "markdown",
   "metadata": {},
   "source": [
    "## Simple (frequentist) probabilities"
   ]
  },
  {
   "cell_type": "markdown",
   "metadata": {},
   "source": [
    "Over a large number of trials, the frequency of some random event converges to a constant number that we call its probability "
   ]
  },
  {
   "cell_type": "code",
   "execution_count": 1,
   "metadata": {
    "collapsed": false
   },
   "outputs": [
    {
     "data": {
      "text/html": [
       "0.4964"
      ],
      "text/latex": [
       "0.4964"
      ],
      "text/markdown": [
       "0.4964"
      ],
      "text/plain": [
       "[1] 0.4964"
      ]
     },
     "metadata": {},
     "output_type": "display_data"
    }
   ],
   "source": [
    "set.seed(1357)\n",
    "\n",
    "#shell.exec(\"https://en.wikipedia.org/wiki/Random_seed\")\n",
    "\n",
    "x = sample(c(\"tail\",\"head\"), size=10000, replace=TRUE)\n",
    "est_prob = sum(x==\"head\")/length(x) \n",
    "est_prob"
   ]
  },
  {
   "cell_type": "code",
   "execution_count": 3,
   "metadata": {
    "collapsed": false
   },
   "outputs": [
    {
     "name": "stderr",
     "output_type": "stream",
     "text": [
      "Installing package into 'C:/Users/ddb265/Documents/R/win-library/3.3'\n",
      "(as 'lib' is unspecified)\n"
     ]
    },
    {
     "ename": "ERROR",
     "evalue": "Error in contrib.url(repos, \"source\"): trying to use CRAN without setting a mirror\n",
     "output_type": "error",
     "traceback": [
      "Error in contrib.url(repos, \"source\"): trying to use CRAN without setting a mirror\nTraceback:\n",
      "1. install.packages(\"ggplot2\")",
      "2. contrib.url(repos, \"source\")",
      "3. stop(\"trying to use CRAN without setting a mirror\")"
     ]
    }
   ],
   "source": [
    "#install.packages(\"ggplot2\")\n",
    "library(ggplot2)\n",
    "cum_prob = cumsum(x=='head')/(1:length(x))\n",
    "qplot(1:length(x), cum_prob, geom='line', ylim=c(0,1), \n",
    "      xlab = 'Number of experiments',\n",
    "      ylab = 'Relative frequency for a head')"
   ]
  },
  {
   "cell_type": "markdown",
   "metadata": {},
   "source": [
    "## Conditional probabilities"
   ]
  },
  {
   "cell_type": "markdown",
   "metadata": {},
   "source": [
    "Probability of A given B occurred: P(A|B)"
   ]
  },
  {
   "cell_type": "markdown",
   "metadata": {},
   "source": [
    "The probability that A and B both occur is the probability of the intersection of A and B: $P(A \\cap B)$"
   ]
  },
  {
   "cell_type": "markdown",
   "metadata": {},
   "source": [
    "When two events, A and B, are dependent, the probability of both occurring is\n",
    "\n",
    "$P(A \\cap B) = P(A) \\cdot P(B \\rvert A)$"
   ]
  },
  {
   "cell_type": "markdown",
   "metadata": {},
   "source": [
    "$P(B \\rvert A) = \\frac{P(A  \\cap  B)}{P(A)}$"
   ]
  },
  {
   "cell_type": "markdown",
   "metadata": {},
   "source": [
    "the probability of rain tomorrow is 80%.\n",
    "\n",
    "$P(R) = 0.8$ \n",
    "\n",
    "*if* it rains tomorrow, then the probability of lightning is 25%.\n",
    "\n",
    "$P(L \\rvert R) = 25\\% = 0.25$"
   ]
  },
  {
   "cell_type": "markdown",
   "metadata": {},
   "source": [
    "$P(L $ and $ R)$ = "
   ]
  },
  {
   "cell_type": "code",
   "execution_count": 359,
   "metadata": {
    "collapsed": false
   },
   "outputs": [
    {
     "name": "stdout",
     "output_type": "stream",
     "text": [
      "[1] 0.2\n"
     ]
    }
   ],
   "source": [
    "P.R = 0.8\n",
    "P.LR = 0.25\n",
    "P.LandR = P.LR * P.R\n",
    "print(P.LandR)"
   ]
  },
  {
   "cell_type": "markdown",
   "metadata": {},
   "source": [
    "There is a 0.80 probability it will snow tomorrow\n",
    "and if it does, there is a 40% chance of them closing I-40\n",
    "and if they close I-40, there will be a 80% chance it is closed for more than 2 hours\n",
    "The probability of there being snow and I-40 is closed for more than 2 hours is"
   ]
  },
  {
   "cell_type": "markdown",
   "metadata": {},
   "source": [
    "The probability of the intersection $P(A  \\cap  B  \\cap  C) = P(A)P(B \\rvert A)P(C \\rvert A \\cap B)$"
   ]
  },
  {
   "cell_type": "markdown",
   "metadata": {},
   "source": [
    "P(Snow and Close and Close>2 hrs) = P(Snow)P(Close|Snow)P(Close >2 hrs |Close and Snow) ="
   ]
  },
  {
   "cell_type": "code",
   "execution_count": 360,
   "metadata": {
    "collapsed": false
   },
   "outputs": [
    {
     "name": "stdout",
     "output_type": "stream",
     "text": [
      "[1] 0.256\n"
     ]
    }
   ],
   "source": [
    "print((0.80)*(0.4)*(0.8))"
   ]
  },
  {
   "cell_type": "markdown",
   "metadata": {},
   "source": [
    "#### Note: we will revisit conditional probabilities in \"Intro to Bayes\""
   ]
  },
  {
   "cell_type": "markdown",
   "metadata": {},
   "source": [
    "$P(A \\cap B ) = P(A \\rvert B) P(B) = P(B \\rvert A) P(A)$"
   ]
  },
  {
   "cell_type": "markdown",
   "metadata": {},
   "source": [
    "## Transition probabilities"
   ]
  },
  {
   "cell_type": "markdown",
   "metadata": {},
   "source": [
    "### Bored students"
   ]
  },
  {
   "cell_type": "markdown",
   "metadata": {},
   "source": [
    "We're in a classroom where students can be in 1 of 2 states: \"alert\" or \"bored\".\n",
    "At any point in time, there is a certain probability that a student will become bored (0.2)\n",
    "and a certain probability that a student will become alert (0.25)\n",
    "\n",
    "Right now (t), there are 6 alert and 9 bored students in the class. \n",
    "Given the probabilities above, how many alert and bored students will there be in the next time step (t+1)?"
   ]
  },
  {
   "cell_type": "code",
   "execution_count": 361,
   "metadata": {
    "collapsed": false
   },
   "outputs": [
    {
     "data": {
      "text/html": [
       "1"
      ],
      "text/latex": [
       "1"
      ],
      "text/markdown": [
       "1"
      ],
      "text/plain": [
       "[1] 1"
      ]
     },
     "metadata": {},
     "output_type": "display_data"
    },
    {
     "name": "stdout",
     "output_type": "stream",
     "text": [
      "Number of bored =  7.95 , Number of alert =  7.05"
     ]
    }
   ],
   "source": [
    "ab = (6/15) * 0.2 #alert become bored\n",
    "ba = (9/15) * 0.25 #bored become alert\n",
    "aa = (6/15) * (1-.2) #alert stay alert\n",
    "bb = (9/15) * (1-.25) #bored stay bored\n",
    "sum(aa,bb,ab,ba)\n",
    "cat(\"Number of bored = \", 15*(ab + bb), \", Number of alert = \", 15*(aa + ba))"
   ]
  },
  {
   "cell_type": "markdown",
   "metadata": {},
   "source": [
    "How do you solve this problem using linear algebra?"
   ]
  },
  {
   "cell_type": "code",
   "execution_count": 362,
   "metadata": {
    "collapsed": false
   },
   "outputs": [
    {
     "name": "stdout",
     "output_type": "stream",
     "text": [
      "[1] 0.4 0.6\n"
     ]
    }
   ],
   "source": [
    "t1 = c(6/15, 9/15) #initial proportions of alert and bored students\n",
    "print(t1)"
   ]
  },
  {
   "cell_type": "code",
   "execution_count": 363,
   "metadata": {
    "collapsed": false
   },
   "outputs": [
    {
     "name": "stdout",
     "output_type": "stream",
     "text": [
      "           alert now bored now\n",
      "alert then      0.80      0.20\n",
      "bored then      0.25      0.75\n"
     ]
    }
   ],
   "source": [
    "#create a matrix of transitions\n",
    "p = matrix(c(1-0.2,0.20,\n",
    "             0.25,1-0.25), nrow = 2, ncol = 2)\n",
    "p = t(p)\n",
    "rownames(p) = c(\"alert then\",\"bored then\")\n",
    "colnames(p) = c(\"alert now\", \"bored now\")\n",
    "print(p)"
   ]
  },
  {
   "cell_type": "markdown",
   "metadata": {},
   "source": [
    "Then the new proportions is the vector - matrix product"
   ]
  },
  {
   "cell_type": "code",
   "execution_count": 364,
   "metadata": {
    "collapsed": false
   },
   "outputs": [
    {
     "data": {
      "text/html": [
       "0.47"
      ],
      "text/latex": [
       "0.47"
      ],
      "text/markdown": [
       "0.47"
      ],
      "text/plain": [
       "[1] 0.47"
      ]
     },
     "metadata": {},
     "output_type": "display_data"
    },
    {
     "data": {
      "text/html": [
       "0.53"
      ],
      "text/latex": [
       "0.53"
      ],
      "text/markdown": [
       "0.53"
      ],
      "text/plain": [
       "[1] 0.53"
      ]
     },
     "metadata": {},
     "output_type": "display_data"
    }
   ],
   "source": [
    "t1[2]*p[2,1] + t1[1]*p[1,1]\n",
    "t1[2]*p[2,2] + t1[1]*p[1,2]"
   ]
  },
  {
   "cell_type": "code",
   "execution_count": 365,
   "metadata": {
    "collapsed": false
   },
   "outputs": [
    {
     "name": "stdout",
     "output_type": "stream",
     "text": [
      "     alert now bored now\n",
      "[1,]      0.47      0.53\n"
     ]
    }
   ],
   "source": [
    "t2 = t1 %*% p\n",
    "print(t2)"
   ]
  },
  {
   "cell_type": "code",
   "execution_count": 366,
   "metadata": {
    "collapsed": false
   },
   "outputs": [
    {
     "name": "stdout",
     "output_type": "stream",
     "text": [
      "Number of alert students is  7.05"
     ]
    }
   ],
   "source": [
    "cat(\"Number of alert students is \", 15*t2[1])"
   ]
  },
  {
   "cell_type": "code",
   "execution_count": 367,
   "metadata": {
    "collapsed": false
   },
   "outputs": [
    {
     "name": "stdout",
     "output_type": "stream",
     "text": [
      "Number of bored students is  7.95"
     ]
    }
   ],
   "source": [
    "cat(\"Number of bored students is \", 15*t2[2])"
   ]
  },
  {
   "cell_type": "markdown",
   "metadata": {},
   "source": [
    "## Markov Chains"
   ]
  },
  {
   "cell_type": "markdown",
   "metadata": {},
   "source": [
    "Markov chains are a very cool type of probabilistic model based on transition probabilities"
   ]
  },
  {
   "cell_type": "markdown",
   "metadata": {},
   "source": [
    "You're doing some sequence stratigraphy work and you're counting transitions between 3 rock groups (sandstone, shale and limestone) in a stratigraphic column. You come up with the following transition frequency matrix"
   ]
  },
  {
   "cell_type": "code",
   "execution_count": 41,
   "metadata": {
    "collapsed": true
   },
   "outputs": [],
   "source": [
    "p = matrix(c(70, 20, 12,\n",
    "             26,50,32, \n",
    "             50, 25, 50), nrow = 3, byrow=TRUE)"
   ]
  },
  {
   "cell_type": "code",
   "execution_count": 42,
   "metadata": {
    "collapsed": false
   },
   "outputs": [],
   "source": [
    "rownames(p) = c(\"sandstone\", \"shale\", \"limestone\")\n",
    "colnames(p) = rownames(p)"
   ]
  },
  {
   "cell_type": "code",
   "execution_count": 43,
   "metadata": {
    "collapsed": false
   },
   "outputs": [
    {
     "data": {
      "text/html": [
       "<dl class=dl-horizontal>\n",
       "\t<dt>sandstone</dt>\n",
       "\t\t<dd>102</dd>\n",
       "\t<dt>shale</dt>\n",
       "\t\t<dd>108</dd>\n",
       "\t<dt>limestone</dt>\n",
       "\t\t<dd>125</dd>\n",
       "</dl>\n"
      ],
      "text/latex": [
       "\\begin{description*}\n",
       "\\item[sandstone] 102\n",
       "\\item[shale] 108\n",
       "\\item[limestone] 125\n",
       "\\end{description*}\n"
      ],
      "text/markdown": [
       "sandstone\n",
       ":   102shale\n",
       ":   108limestone\n",
       ":   125\n",
       "\n"
      ],
      "text/plain": [
       "sandstone     shale limestone \n",
       "      102       108       125 "
      ]
     },
     "metadata": {},
     "output_type": "display_data"
    }
   ],
   "source": [
    "rowSums(p)"
   ]
  },
  {
   "cell_type": "code",
   "execution_count": 44,
   "metadata": {
    "collapsed": false
   },
   "outputs": [
    {
     "data": {
      "text/html": [
       "<table>\n",
       "<thead><tr><th></th><th scope=col>sandstone</th><th scope=col>shale</th><th scope=col>limestone</th></tr></thead>\n",
       "<tbody>\n",
       "\t<tr><th scope=row>sandstone</th><td>0.6862745</td><td>0.1960784</td><td>0.1176471</td></tr>\n",
       "\t<tr><th scope=row>shale</th><td>0.2407407</td><td>0.4629630</td><td>0.2962963</td></tr>\n",
       "\t<tr><th scope=row>limestone</th><td>0.4000000</td><td>0.2000000</td><td>0.4000000</td></tr>\n",
       "</tbody>\n",
       "</table>\n"
      ],
      "text/latex": [
       "\\begin{tabular}{r|lll}\n",
       "  & sandstone & shale & limestone\\\\\n",
       "\\hline\n",
       "\tsandstone & 0.6862745 & 0.1960784 & 0.1176471\\\\\n",
       "\tshale & 0.2407407 & 0.4629630 & 0.2962963\\\\\n",
       "\tlimestone & 0.4000000 & 0.2000000 & 0.4000000\\\\\n",
       "\\end{tabular}\n"
      ],
      "text/markdown": [
       "\n",
       "| <!--/--> | sandstone | shale | limestone | \n",
       "|---|---|---|\n",
       "| sandstone | 0.6862745 | 0.1960784 | 0.1176471 | \n",
       "| shale | 0.2407407 | 0.4629630 | 0.2962963 | \n",
       "| limestone | 0.4000000 | 0.2000000 | 0.4000000 | \n",
       "\n",
       "\n"
      ],
      "text/plain": [
       "          sandstone shale     limestone\n",
       "sandstone 0.6862745 0.1960784 0.1176471\n",
       "shale     0.2407407 0.4629630 0.2962963\n",
       "limestone 0.4000000 0.2000000 0.4000000"
      ]
     },
     "metadata": {},
     "output_type": "display_data"
    }
   ],
   "source": [
    "# our transition probability matrix is\n",
    "# the transition frequency matrix divided by row sums\n",
    "p = p / rowSums(p)\n",
    "p"
   ]
  },
  {
   "cell_type": "markdown",
   "metadata": {},
   "source": [
    "Given that we are in a sandstone layer, what is the probability being back in sandstone in exactly 2 strata?"
   ]
  },
  {
   "cell_type": "code",
   "execution_count": 62,
   "metadata": {
    "collapsed": false
   },
   "outputs": [
    {
     "data": {
      "text/html": [
       "0.565235593147934"
      ],
      "text/latex": [
       "0.565235593147934"
      ],
      "text/markdown": [
       "0.565235593147934"
      ],
      "text/plain": [
       "[1] 0.5652356"
      ]
     },
     "metadata": {},
     "output_type": "display_data"
    }
   ],
   "source": [
    "# We can go sandstone -> sandstone\n",
    "a = p[1,1] * p[1,1]\n",
    " \n",
    "# shale -> sandstone (note that to we have to get the probability of going to sandstone from the shale)\n",
    "b = p[2,1] * p[1,2]\n",
    " \n",
    "# limestone -> sandstone\n",
    "c = p[3,1] * p[1,3]\n",
    " \n",
    "a + b + c    # The probability that we will be sandstone in 2 trips."
   ]
  },
  {
   "cell_type": "code",
   "execution_count": 63,
   "metadata": {
    "collapsed": false
   },
   "outputs": [
    {
     "data": {
      "text/html": [
       "<table>\n",
       "<thead><tr><th></th><th scope=col>sandstone</th><th scope=col>shale</th><th scope=col>limestone</th></tr></thead>\n",
       "<tbody>\n",
       "\t<tr><th scope=row>sandstone</th><td>0.5652356</td><td>0.2488701</td><td>0.1858943</td></tr>\n",
       "\t<tr><th scope=row>shale</th><td>0.3951868</td><td>0.3207980</td><td>0.2840152</td></tr>\n",
       "\t<tr><th scope=row>limestone</th><td>0.4826580</td><td>0.2510240</td><td>0.2663181</td></tr>\n",
       "</tbody>\n",
       "</table>\n"
      ],
      "text/latex": [
       "\\begin{tabular}{r|lll}\n",
       "  & sandstone & shale & limestone\\\\\n",
       "\\hline\n",
       "\tsandstone & 0.5652356 & 0.2488701 & 0.1858943\\\\\n",
       "\tshale & 0.3951868 & 0.3207980 & 0.2840152\\\\\n",
       "\tlimestone & 0.4826580 & 0.2510240 & 0.2663181\\\\\n",
       "\\end{tabular}\n"
      ],
      "text/markdown": [
       "\n",
       "| <!--/--> | sandstone | shale | limestone | \n",
       "|---|---|---|\n",
       "| sandstone | 0.5652356 | 0.2488701 | 0.1858943 | \n",
       "| shale | 0.3951868 | 0.3207980 | 0.2840152 | \n",
       "| limestone | 0.4826580 | 0.2510240 | 0.2663181 | \n",
       "\n",
       "\n"
      ],
      "text/plain": [
       "          sandstone shale     limestone\n",
       "sandstone 0.5652356 0.2488701 0.1858943\n",
       "shale     0.3951868 0.3207980 0.2840152\n",
       "limestone 0.4826580 0.2510240 0.2663181"
      ]
     },
     "metadata": {},
     "output_type": "display_data"
    }
   ],
   "source": [
    "p %*% p"
   ]
  },
  {
   "cell_type": "markdown",
   "metadata": {},
   "source": [
    "Given that we are in a shale layer, what is the probability being in limestone in exactly 3 strata?"
   ]
  },
  {
   "cell_type": "code",
   "execution_count": 77,
   "metadata": {
    "collapsed": false
   },
   "outputs": [],
   "source": [
    "#install.packages(\"expm\")\n",
    "library(expm)"
   ]
  },
  {
   "cell_type": "code",
   "execution_count": 78,
   "metadata": {
    "collapsed": false
   },
   "outputs": [
    {
     "data": {
      "text/html": [
       "<table>\n",
       "<thead><tr><th></th><th scope=col>sandstone</th><th scope=col>shale</th><th scope=col>limestone</th></tr></thead>\n",
       "<tbody>\n",
       "\t<tr><th scope=row>sandstone</th><td>0.5221777</td><td>0.2632270</td><td>0.2145953</td></tr>\n",
       "\t<tr><th scope=row>shale</th><td>0.4620419</td><td>0.2828082</td><td>0.2551499</td></tr>\n",
       "\t<tr><th scope=row>limestone</th><td>0.4981948</td><td>0.2641172</td><td>0.2376880</td></tr>\n",
       "</tbody>\n",
       "</table>\n"
      ],
      "text/latex": [
       "\\begin{tabular}{r|lll}\n",
       "  & sandstone & shale & limestone\\\\\n",
       "\\hline\n",
       "\tsandstone & 0.5221777 & 0.2632270 & 0.2145953\\\\\n",
       "\tshale & 0.4620419 & 0.2828082 & 0.2551499\\\\\n",
       "\tlimestone & 0.4981948 & 0.2641172 & 0.2376880\\\\\n",
       "\\end{tabular}\n"
      ],
      "text/markdown": [
       "\n",
       "| <!--/--> | sandstone | shale | limestone | \n",
       "|---|---|---|\n",
       "| sandstone | 0.5221777 | 0.2632270 | 0.2145953 | \n",
       "| shale | 0.4620419 | 0.2828082 | 0.2551499 | \n",
       "| limestone | 0.4981948 | 0.2641172 | 0.2376880 | \n",
       "\n",
       "\n"
      ],
      "text/plain": [
       "          sandstone shale     limestone\n",
       "sandstone 0.5221777 0.2632270 0.2145953\n",
       "shale     0.4620419 0.2828082 0.2551499\n",
       "limestone 0.4981948 0.2641172 0.2376880"
      ]
     },
     "metadata": {},
     "output_type": "display_data"
    }
   ],
   "source": [
    "p5 = p %^% 3\n",
    "p5"
   ]
  },
  {
   "cell_type": "code",
   "execution_count": 79,
   "metadata": {
    "collapsed": false
   },
   "outputs": [
    {
     "data": {
      "text/html": [
       "0.255149901017635"
      ],
      "text/latex": [
       "0.255149901017635"
      ],
      "text/markdown": [
       "0.255149901017635"
      ],
      "text/plain": [
       "[1] 0.2551499"
      ]
     },
     "metadata": {},
     "output_type": "display_data"
    }
   ],
   "source": [
    "p5[2,3]"
   ]
  },
  {
   "cell_type": "markdown",
   "metadata": {},
   "source": [
    "Transition matrix $p ^ n$, will converge as $n$ increases, given that there are no 0's or 1's in our initial matrix."
   ]
  },
  {
   "cell_type": "code",
   "execution_count": 81,
   "metadata": {
    "collapsed": false
   },
   "outputs": [
    {
     "data": {
      "text/html": [
       "<table>\n",
       "<thead><tr><th></th><th scope=col>sandstone</th><th scope=col>shale</th><th scope=col>limestone</th></tr></thead>\n",
       "<tbody>\n",
       "\t<tr><th scope=row>sandstone</th><td>0.5004838</td><td>0.2686938</td><td>0.2308224</td></tr>\n",
       "\t<tr><th scope=row>shale</th><td>0.5004838</td><td>0.2686938</td><td>0.2308224</td></tr>\n",
       "\t<tr><th scope=row>limestone</th><td>0.5004838</td><td>0.2686938</td><td>0.2308224</td></tr>\n",
       "</tbody>\n",
       "</table>\n"
      ],
      "text/latex": [
       "\\begin{tabular}{r|lll}\n",
       "  & sandstone & shale & limestone\\\\\n",
       "\\hline\n",
       "\tsandstone & 0.5004838 & 0.2686938 & 0.2308224\\\\\n",
       "\tshale & 0.5004838 & 0.2686938 & 0.2308224\\\\\n",
       "\tlimestone & 0.5004838 & 0.2686938 & 0.2308224\\\\\n",
       "\\end{tabular}\n"
      ],
      "text/markdown": [
       "\n",
       "| <!--/--> | sandstone | shale | limestone | \n",
       "|---|---|---|\n",
       "| sandstone | 0.5004838 | 0.2686938 | 0.2308224 | \n",
       "| shale | 0.5004838 | 0.2686938 | 0.2308224 | \n",
       "| limestone | 0.5004838 | 0.2686938 | 0.2308224 | \n",
       "\n",
       "\n"
      ],
      "text/plain": [
       "          sandstone shale     limestone\n",
       "sandstone 0.5004838 0.2686938 0.2308224\n",
       "shale     0.5004838 0.2686938 0.2308224\n",
       "limestone 0.5004838 0.2686938 0.2308224"
      ]
     },
     "metadata": {},
     "output_type": "display_data"
    }
   ],
   "source": [
    "p %^% 20"
   ]
  },
  {
   "cell_type": "markdown",
   "metadata": {},
   "source": [
    "This distribution, when the starting location is completely irrelevant, is known as the stationary distribution."
   ]
  },
  {
   "cell_type": "markdown",
   "metadata": {},
   "source": [
    "After a lot of transitions, no matter what your starting point, the likelihood of being in a sandstone strata is about 0.5"
   ]
  },
  {
   "cell_type": "code",
   "execution_count": null,
   "metadata": {
    "collapsed": true
   },
   "outputs": [],
   "source": [
    "#http://setosa.io/ev/markov-chains/"
   ]
  },
  {
   "cell_type": "markdown",
   "metadata": {},
   "source": [
    "#### Note: we will revisit transition probabilities in \"Linear Algebra\" and \"Time Series Analysis\""
   ]
  },
  {
   "cell_type": "markdown",
   "metadata": {},
   "source": [
    "Markov chain monte carlo: tool used for sampling from a complicated distribution\n",
    "First, a Markov chain is constructed and the steady-state probability distribution is found"
   ]
  },
  {
   "cell_type": "markdown",
   "metadata": {},
   "source": [
    "# Probability distributions"
   ]
  },
  {
   "cell_type": "code",
   "execution_count": 371,
   "metadata": {
    "collapsed": false
   },
   "outputs": [
    {
     "data": {},
     "metadata": {},
     "output_type": "display_data"
    },
    {
     "data": {
      "image/png": "[encoded data removed]",
      "text/plain": [
       "plot without title"
      ]
     },
     "metadata": {},
     "output_type": "display_data"
    }
   ],
   "source": [
    "x = sample(c(\"tail\",\"head\"), size=10, replace=TRUE)\n",
    "cum_prob = cumsum(x=='head')/(1:length(x))\n",
    "qplot(1:length(x), cum_prob, geom='line', ylim=c(0,1), \n",
    "      xlab = 'Number of experiments',\n",
    "      ylab = 'Relative frequency for a head')"
   ]
  },
  {
   "cell_type": "markdown",
   "metadata": {},
   "source": [
    "We conduct an experiment where we flip a coin 5 times, 5000 times.\n",
    "What is the probability that we flip 5 heads in 5 tosses?"
   ]
  },
  {
   "cell_type": "code",
   "execution_count": 372,
   "metadata": {
    "collapsed": false
   },
   "outputs": [
    {
     "data": {
      "text/html": [
       "0.033"
      ],
      "text/latex": [
       "0.033"
      ],
      "text/markdown": [
       "0.033"
      ],
      "text/plain": [
       "[1] 0.033"
      ]
     },
     "metadata": {},
     "output_type": "display_data"
    }
   ],
   "source": [
    "no_of_experiments = 5000\n",
    "no_of_events = rep(0,no_of_experiments) # Initializing the output vector\n",
    "for(i in 1:no_of_experiments){\n",
    "  x = sample(c('tail','head'), size=5, replace=TRUE)\n",
    "  no_of_events[i] = sum(x=='head')\n",
    "}\n",
    "prob_of_5 = mean(no_of_events==5)\n",
    "prob_of_5"
   ]
  },
  {
   "cell_type": "markdown",
   "metadata": {},
   "source": [
    "What is the probability that we flip 0,1,2,3,4, and 5 heads in 5 tosses?"
   ]
  },
  {
   "cell_type": "code",
   "execution_count": 373,
   "metadata": {
    "collapsed": false
   },
   "outputs": [
    {
     "data": {
      "image/png": "[encoded data removed]",
      "text/plain": [
       "plot without title"
      ]
     },
     "metadata": {},
     "output_type": "display_data"
    }
   ],
   "source": [
    "rel_freq = table(no_of_events)/length(no_of_events)\n",
    "barplot(rel_freq, ylab='Probability', xlab='Number of heads')"
   ]
  },
  {
   "cell_type": "code",
   "execution_count": 374,
   "metadata": {
    "collapsed": false
   },
   "outputs": [
    {
     "data": {
      "text/plain": [
       "no_of_events\n",
       "   0    1    2    3    4    5 \n",
       "0.03 0.16 0.32 0.31 0.15 0.03 "
      ]
     },
     "metadata": {},
     "output_type": "display_data"
    }
   ],
   "source": [
    "round(rel_freq,2)"
   ]
  },
  {
   "cell_type": "markdown",
   "metadata": {},
   "source": [
    "### Binomial probability"
   ]
  },
  {
   "cell_type": "markdown",
   "metadata": {},
   "source": [
    "The binomial distribution tells us that the probability of getting *m* successes in *n* trials when the success probability is *p* is"
   ]
  },
  {
   "cell_type": "markdown",
   "metadata": {},
   "source": [
    "$C_{n,m}p^m(1-p)^{n-m}$"
   ]
  },
  {
   "cell_type": "markdown",
   "metadata": {},
   "source": [
    "where $C_{m,n}$ are the binomial coefficients (the number of ways of picking *m* things out of *n*)\n",
    "\n",
    "$C_{m,n} = \\frac{n!}{m!(n-m)!}$"
   ]
  },
  {
   "cell_type": "code",
   "execution_count": 375,
   "metadata": {
    "collapsed": false
   },
   "outputs": [
    {
     "name": "stdout",
     "output_type": "stream",
     "text": [
      "[1]  1  5 10 10  5  1\n",
      "  outcome binom_prob\n",
      "1       0    0.03125\n",
      "2       1    0.15625\n",
      "3       2    0.31250\n",
      "4       3    0.31250\n",
      "5       4    0.15625\n",
      "6       5    0.03125\n"
     ]
    }
   ],
   "source": [
    "p = 0.5\n",
    "m = c(0,1,2,3,4,5)\n",
    "n = 5\n",
    "\n",
    "Cmn = factorial(n)/(factorial(m)*factorial(n-m)) #long-hand way of saying \"choose(n,m)\"\n",
    "print(Cmn)\n",
    "\n",
    "pr = data.frame(outcome=m, binom_prob = Cmn*(p^m)*((1-p)^(n-m)))\n",
    "print(pr)"
   ]
  },
  {
   "cell_type": "code",
   "execution_count": 376,
   "metadata": {
    "collapsed": false
   },
   "outputs": [
    {
     "name": "stdout",
     "output_type": "stream",
     "text": [
      "  outcome probability experimental_probability proportional_error\n",
      "0       0     0.03125                   0.0320            0.02400\n",
      "1       1     0.15625                   0.1626            0.04064\n",
      "2       2     0.31250                   0.3182            0.01824\n",
      "3       3     0.31250                   0.3064           -0.01952\n",
      "4       4     0.15625                   0.1478           -0.05408\n",
      "5       5     0.03125                   0.0330            0.05600\n"
     ]
    }
   ],
   "source": [
    "# In R, the short-hand way to do the above is to binom\n",
    "# dbinom gives the \"probability mass function\" for binomial distributions\n",
    "binomial_prob = dbinom(m, size=5, prob=0.5)\n",
    "out = data.frame(outcome=m, probability=binomial_prob, \n",
    "                  experimental_probability=unclass(rel_freq),\n",
    "                  proportional_error = (unclass(rel_freq)-binomial_prob)/binomial_prob)\n",
    "print(out)"
   ]
  },
  {
   "cell_type": "markdown",
   "metadata": {},
   "source": [
    "### Yahtzeeee!!"
   ]
  },
  {
   "cell_type": "markdown",
   "metadata": {},
   "source": [
    "You have 5 dice. What is the probability of rolling 1 six?"
   ]
  },
  {
   "cell_type": "code",
   "execution_count": 377,
   "metadata": {
    "collapsed": false
   },
   "outputs": [
    {
     "name": "stdout",
     "output_type": "stream",
     "text": [
      "[1] \"5\" \"4\" \"2\" \"2\" \"5\"\n"
     ]
    },
    {
     "data": {
      "text/html": [
       "0"
      ],
      "text/latex": [
       "0"
      ],
      "text/markdown": [
       "0"
      ],
      "text/plain": [
       "[1] 0"
      ]
     },
     "metadata": {},
     "output_type": "display_data"
    }
   ],
   "source": [
    "x = sample(c('1','2','3','4','5','6'), size=5, replace=TRUE)\n",
    "print(x)\n",
    "sum(x=='6')"
   ]
  },
  {
   "cell_type": "code",
   "execution_count": 378,
   "metadata": {
    "collapsed": false
   },
   "outputs": [
    {
     "data": {
      "text/html": [
       "0.4053"
      ],
      "text/latex": [
       "0.4053"
      ],
      "text/markdown": [
       "0.4053"
      ],
      "text/plain": [
       "[1] 0.4053"
      ]
     },
     "metadata": {},
     "output_type": "display_data"
    }
   ],
   "source": [
    "no_of_experiments = 50000\n",
    "no_of_events = rep(0,no_of_experiments) # Initializing the output vector\n",
    "for(i in 1:no_of_experiments){\n",
    "  x = sample(c('1','2','3','4','5','6'), size=5, replace=TRUE)\n",
    "  no_of_events[i] = sum(x=='6')\n",
    "}\n",
    "prob_of_6 = mean(no_of_events==1)\n",
    "prob_of_6"
   ]
  },
  {
   "cell_type": "markdown",
   "metadata": {},
   "source": [
    "What is the probability of rolling 6 sixes?"
   ]
  },
  {
   "cell_type": "code",
   "execution_count": 379,
   "metadata": {
    "collapsed": false
   },
   "outputs": [
    {
     "data": {
      "image/png": "[encoded data removed]",
      "text/plain": [
       "plot without title"
      ]
     },
     "metadata": {},
     "output_type": "display_data"
    }
   ],
   "source": [
    "rel_freq = table(no_of_events)/length(no_of_events)\n",
    "barplot(rel_freq, ylab='Probability', xlab='Number of sixes')"
   ]
  },
  {
   "cell_type": "code",
   "execution_count": 380,
   "metadata": {
    "collapsed": false
   },
   "outputs": [],
   "source": [
    "p = 1/6 #= chance of getting a specific number \n",
    "q = 1-p #= 5/6 = chances of failing to get a specific number"
   ]
  },
  {
   "cell_type": "markdown",
   "metadata": {},
   "source": [
    "Theoretical answer? Use the binomial probability function"
   ]
  },
  {
   "cell_type": "code",
   "execution_count": 381,
   "metadata": {
    "collapsed": false
   },
   "outputs": [
    {
     "name": "stdout",
     "output_type": "stream",
     "text": [
      "[1] 40.18775720 40.18775720 16.07510288  3.21502058  0.32150206  0.01286008\n"
     ]
    }
   ],
   "source": [
    "m = c(0,1,2,3,4,5)\n",
    "n = 5\n",
    "binom_prob = Cmn*(p^m)*((1-p)^(n-m))\n",
    "print(binom_prob * 100)"
   ]
  },
  {
   "cell_type": "markdown",
   "metadata": {},
   "source": [
    "which is the same as expanding $(p + q)^5$"
   ]
  },
  {
   "cell_type": "code",
   "execution_count": 382,
   "metadata": {
    "collapsed": false
   },
   "outputs": [
    {
     "name": "stdout",
     "output_type": "stream",
     "text": [
      "[1] 40.18775720 40.18775720 16.07510288  3.21502058  0.32150206  0.01286008\n"
     ]
    }
   ],
   "source": [
    "theo = c(q^5, (5*p)*(q^4), (10*p^2)*(q^3), (10*p^3)*(q^2), (5*p^4)*(q), (p^5))\n",
    "\n",
    "print(theo * 100)"
   ]
  },
  {
   "cell_type": "code",
   "execution_count": 383,
   "metadata": {
    "collapsed": false
   },
   "outputs": [
    {
     "name": "stdout",
     "output_type": "stream",
     "text": [
      "no_of_events\n",
      "     0      1      2      3      4      5 \n",
      "40.016 40.530 16.074  3.070  0.306  0.004 \n"
     ]
    }
   ],
   "source": [
    "# how does it compare to the experimental?\n",
    "print (rel_freq*100)"
   ]
  },
  {
   "cell_type": "markdown",
   "metadata": {},
   "source": [
    "## Normal Distribution"
   ]
  },
  {
   "cell_type": "code",
   "execution_count": 384,
   "metadata": {
    "collapsed": false
   },
   "outputs": [
    {
     "data": {
      "image/png": "[encoded data removed]",
      "text/plain": [
       "plot without title"
      ]
     },
     "metadata": {},
     "output_type": "display_data"
    }
   ],
   "source": [
    "x = seq(-20,20,by=.1)\n",
    "y = dnorm(x, mean=2.5,sd=1)\n",
    "plot(x,y)"
   ]
  },
  {
   "cell_type": "code",
   "execution_count": 385,
   "metadata": {
    "collapsed": false
   },
   "outputs": [
    {
     "data": {
      "image/png": "[encoded data removed]",
      "text/plain": [
       "Plot with title “Random Numbers from Normal Distribution”"
      ]
     },
     "metadata": {},
     "output_type": "display_data"
    }
   ],
   "source": [
    "data = rnorm(10000, mean = 80, sd = 5)\n",
    "hist(data, nclass = 20, col = \"blue\", main = \"Random Numbers from Normal Distribution\")"
   ]
  },
  {
   "cell_type": "markdown",
   "metadata": {},
   "source": [
    "### Testing for normality"
   ]
  },
  {
   "cell_type": "markdown",
   "metadata": {},
   "source": [
    "The data are fitted against a theoretical distribution in such as way that the points should form approximately a straight line"
   ]
  },
  {
   "cell_type": "code",
   "execution_count": 386,
   "metadata": {
    "collapsed": false
   },
   "outputs": [
    {
     "data": {
      "image/png": "[encoded data removed]",
      "text/plain": [
       "Plot with title “Normal Q-Q Plot”"
      ]
     },
     "metadata": {},
     "output_type": "display_data"
    }
   ],
   "source": [
    "qqnorm(data)\n",
    "qqline(data)"
   ]
  },
  {
   "cell_type": "code",
   "execution_count": 387,
   "metadata": {
    "collapsed": false
   },
   "outputs": [
    {
     "data": {
      "image/png": "[encoded data removed]",
      "text/plain": [
       "Plot with title “Random Numbers from Exponential Distribution”"
      ]
     },
     "metadata": {},
     "output_type": "display_data"
    },
    {
     "data": {
      "image/png": "[encoded data removed]",
      "text/plain": [
       "Plot with title “Normal Q-Q Plot”"
      ]
     },
     "metadata": {},
     "output_type": "display_data"
    }
   ],
   "source": [
    "mean = 25\n",
    "data = rexp(1000, rate = 1/mean)\n",
    "hist(data, nclass = 20, col = \"green\", main = \"Random Numbers from Exponential Distribution\")\n",
    "\n",
    "qqnorm(data)\n",
    "qqline(data)"
   ]
  },
  {
   "cell_type": "markdown",
   "metadata": {},
   "source": [
    "# Start of Day 2"
   ]
  },
  {
   "cell_type": "markdown",
   "metadata": {},
   "source": [
    "## dataRetrieval package"
   ]
  },
  {
   "cell_type": "code",
   "execution_count": null,
   "metadata": {
    "collapsed": true
   },
   "outputs": [],
   "source": [
    "#install.packages(\"dataRetrieval\")\n",
    "#install.packages(\"ggplot2\")\n",
    "#install.packages(\"fitdistrplus\")\n",
    "#install.packages(\"car\")"
   ]
  },
  {
   "cell_type": "code",
   "execution_count": null,
   "metadata": {
    "collapsed": true
   },
   "outputs": [],
   "source": [
    "shell.exec(\"https://waterdata.usgs.gov/nwis\")"
   ]
  },
  {
   "cell_type": "code",
   "execution_count": null,
   "metadata": {
    "collapsed": true
   },
   "outputs": [],
   "source": [
    "shell.exec(\"https://owi.usgs.gov/R/dataRetrieval.html#1\")"
   ]
  },
  {
   "cell_type": "markdown",
   "metadata": {},
   "source": [
    "## Poisson Distribution"
   ]
  },
  {
   "cell_type": "markdown",
   "metadata": {
    "collapsed": true
   },
   "source": [
    "The Poisson distribution is the probability distribution of independent event occurrences in an interval. \n",
    "If $\\lambda$ is the mean occurrence per interval, then the probability of having $k$ occurrences within a given interval is:\n",
    "\n",
    "${\\displaystyle P(k{\\text{ events in interval}})={\\frac {\\lambda ^{k}e^{-\\lambda }}{k!}}}$\n",
    "\n",
    "The mean (and variance) of events in an interval is designated $\\lambda$  (lambda). Lambda is the event rate, also called the rate parameter. The standard deviation is $\\sqrt{\\lambda}$"
   ]
  },
  {
   "cell_type": "code",
   "execution_count": 388,
   "metadata": {
    "collapsed": true
   },
   "outputs": [],
   "source": [
    "#help(Poisson)"
   ]
  },
  {
   "cell_type": "markdown",
   "metadata": {},
   "source": [
    "A bar chart of the distribution of the Poisson random variable with parameter $\\lambda$ = 0.3 can be obtained using"
   ]
  },
  {
   "cell_type": "code",
   "execution_count": 8,
   "metadata": {
    "collapsed": false
   },
   "outputs": [
    {
     "data": {
      "image/png": "[encoded data removed]",
      "text/plain": [
       "plot without title"
      ]
     },
     "metadata": {},
     "output_type": "display_data"
    }
   ],
   "source": [
    " barplot(dpois(0:10, lambda=0.3), xlab='Quantiles (Number of events)', ylab='Event Probability')"
   ]
  },
  {
   "cell_type": "markdown",
   "metadata": {},
   "source": [
    "what do you notice by changing the lambda parameter?\n",
    "smaller lambda 'drop off' more quickly than large lambda"
   ]
  },
  {
   "cell_type": "code",
   "execution_count": 9,
   "metadata": {
    "collapsed": false
   },
   "outputs": [
    {
     "name": "stdout",
     "output_type": "stream",
     "text": [
      "[1] 0.49\n"
     ]
    }
   ],
   "source": [
    "X = rpois(1000, 0.5)\n",
    "# mean of X should be ~0.5\n",
    "print (mean(X))"
   ]
  },
  {
   "cell_type": "markdown",
   "metadata": {},
   "source": [
    "Some uses:\n",
    "\n",
    "1.rare events (floods, storm surges)\n",
    "\n",
    "2.counts/rates (number of meteorite impacts per km$^2$, number of particles emitted from radioactive material per unt time)\n",
    "\n",
    "rule of thumb: counting processes (number of photons landing on a photodiode), spatial densities, and return intervals"
   ]
  },
  {
   "cell_type": "markdown",
   "metadata": {},
   "source": [
    "We're going to use flow records from the Colorado River in Grand Canyon to look at return intervals using a Poisson distribution"
   ]
  },
  {
   "cell_type": "code",
   "execution_count": 10,
   "metadata": {
    "collapsed": false
   },
   "outputs": [
    {
     "data": {
      "text/html": [
       "<ol class=list-inline>\n",
       "\t<li>'agency_cd'</li>\n",
       "\t<li>'site_no'</li>\n",
       "\t<li>'dateTime'</li>\n",
       "\t<li>'Flow_Max'</li>\n",
       "\t<li>'Flow_Max_cd'</li>\n",
       "\t<li>'Flow_Min'</li>\n",
       "\t<li>'Flow_Min_cd'</li>\n",
       "\t<li>'Flow'</li>\n",
       "\t<li>'Flow_cd'</li>\n",
       "\t<li>'tz_cd'</li>\n",
       "</ol>\n"
      ],
      "text/latex": [
       "\\begin{enumerate*}\n",
       "\\item 'agency\\_cd'\n",
       "\\item 'site\\_no'\n",
       "\\item 'dateTime'\n",
       "\\item 'Flow\\_Max'\n",
       "\\item 'Flow\\_Max\\_cd'\n",
       "\\item 'Flow\\_Min'\n",
       "\\item 'Flow\\_Min\\_cd'\n",
       "\\item 'Flow'\n",
       "\\item 'Flow\\_cd'\n",
       "\\item 'tz\\_cd'\n",
       "\\end{enumerate*}\n"
      ],
      "text/markdown": [
       "1. 'agency_cd'\n",
       "2. 'site_no'\n",
       "3. 'dateTime'\n",
       "4. 'Flow_Max'\n",
       "5. 'Flow_Max_cd'\n",
       "6. 'Flow_Min'\n",
       "7. 'Flow_Min_cd'\n",
       "8. 'Flow'\n",
       "9. 'Flow_cd'\n",
       "10. 'tz_cd'\n",
       "\n",
       "\n"
      ],
      "text/plain": [
       " [1] \"agency_cd\"   \"site_no\"     \"dateTime\"    \"Flow_Max\"    \"Flow_Max_cd\"\n",
       " [6] \"Flow_Min\"    \"Flow_Min_cd\" \"Flow\"        \"Flow_cd\"     \"tz_cd\"      "
      ]
     },
     "metadata": {},
     "output_type": "display_data"
    }
   ],
   "source": [
    "#install.packages(\"dataRetrieval\")\n",
    "library(dataRetrieval)\n",
    "\n",
    "#https://waterdata.usgs.gov/usa/nwis/uv?09380000\n",
    "siteNo = \"09380000\"\n",
    "pCode = \"00060\"\n",
    "start.date = \"2014-01-01\"\n",
    "end.date = \"2017-01-01\"\n",
    "\n",
    "lf = readNWISdata(siteNumbers = siteNo,\n",
    "                     parameterCd = pCode,\n",
    "                     startDate = start.date,\n",
    "                     endDate = end.date,\n",
    "                     service = \"dv\")\n",
    "\n",
    "lf = renameNWISColumns(lf)\n",
    "names(lf)"
   ]
  },
  {
   "cell_type": "code",
   "execution_count": 11,
   "metadata": {
    "collapsed": false
   },
   "outputs": [
    {
     "data": {
      "text/html": [
       "<table>\n",
       "<thead><tr><th scope=col>agency_cd</th><th scope=col>site_no</th><th scope=col>dateTime</th><th scope=col>Flow_Max</th><th scope=col>Flow_Max_cd</th><th scope=col>Flow_Min</th><th scope=col>Flow_Min_cd</th><th scope=col>Flow</th><th scope=col>Flow_cd</th><th scope=col>tz_cd</th></tr></thead>\n",
       "<tbody>\n",
       "\t<tr><td>USGS      </td><td>09380000  </td><td>2014-01-01</td><td>15200     </td><td>A         </td><td>8570      </td><td>A         </td><td>11600     </td><td>A         </td><td>UTC       </td></tr>\n",
       "\t<tr><td>USGS      </td><td>09380000  </td><td>2014-01-02</td><td>16100     </td><td>A         </td><td>8830      </td><td>A         </td><td>13400     </td><td>A         </td><td>UTC       </td></tr>\n",
       "\t<tr><td>USGS      </td><td>09380000  </td><td>2014-01-03</td><td>16600     </td><td>A         </td><td>8680      </td><td>A         </td><td>13500     </td><td>A         </td><td>UTC       </td></tr>\n",
       "\t<tr><td>USGS      </td><td>09380000  </td><td>2014-01-04</td><td>16100     </td><td>A         </td><td>8750      </td><td>A         </td><td>12700     </td><td>A         </td><td>UTC       </td></tr>\n",
       "\t<tr><td>USGS      </td><td>09380000  </td><td>2014-01-05</td><td>15600     </td><td>A         </td><td>8790      </td><td>A         </td><td>12100     </td><td>A         </td><td>UTC       </td></tr>\n",
       "\t<tr><td>USGS      </td><td>09380000  </td><td>2014-01-06</td><td>16600     </td><td>A         </td><td>8790      </td><td>A         </td><td>13500     </td><td>A         </td><td>UTC       </td></tr>\n",
       "</tbody>\n",
       "</table>\n"
      ],
      "text/latex": [
       "\\begin{tabular}{r|llllllllll}\n",
       " agency\\_cd & site\\_no & dateTime & Flow\\_Max & Flow\\_Max\\_cd & Flow\\_Min & Flow\\_Min\\_cd & Flow & Flow\\_cd & tz\\_cd\\\\\n",
       "\\hline\n",
       "\t USGS       & 09380000   & 2014-01-01 & 15200      & A          & 8570       & A          & 11600      & A          & UTC       \\\\\n",
       "\t USGS       & 09380000   & 2014-01-02 & 16100      & A          & 8830       & A          & 13400      & A          & UTC       \\\\\n",
       "\t USGS       & 09380000   & 2014-01-03 & 16600      & A          & 8680       & A          & 13500      & A          & UTC       \\\\\n",
       "\t USGS       & 09380000   & 2014-01-04 & 16100      & A          & 8750       & A          & 12700      & A          & UTC       \\\\\n",
       "\t USGS       & 09380000   & 2014-01-05 & 15600      & A          & 8790       & A          & 12100      & A          & UTC       \\\\\n",
       "\t USGS       & 09380000   & 2014-01-06 & 16600      & A          & 8790       & A          & 13500      & A          & UTC       \\\\\n",
       "\\end{tabular}\n"
      ],
      "text/markdown": [
       "\n",
       "agency_cd | site_no | dateTime | Flow_Max | Flow_Max_cd | Flow_Min | Flow_Min_cd | Flow | Flow_cd | tz_cd | \n",
       "|---|---|---|---|---|---|\n",
       "| USGS       | 09380000   | 2014-01-01 | 15200      | A          | 8570       | A          | 11600      | A          | UTC        | \n",
       "| USGS       | 09380000   | 2014-01-02 | 16100      | A          | 8830       | A          | 13400      | A          | UTC        | \n",
       "| USGS       | 09380000   | 2014-01-03 | 16600      | A          | 8680       | A          | 13500      | A          | UTC        | \n",
       "| USGS       | 09380000   | 2014-01-04 | 16100      | A          | 8750       | A          | 12700      | A          | UTC        | \n",
       "| USGS       | 09380000   | 2014-01-05 | 15600      | A          | 8790       | A          | 12100      | A          | UTC        | \n",
       "| USGS       | 09380000   | 2014-01-06 | 16600      | A          | 8790       | A          | 13500      | A          | UTC        | \n",
       "\n",
       "\n"
      ],
      "text/plain": [
       "  agency_cd site_no  dateTime   Flow_Max Flow_Max_cd Flow_Min Flow_Min_cd Flow \n",
       "1 USGS      09380000 2014-01-01 15200    A           8570     A           11600\n",
       "2 USGS      09380000 2014-01-02 16100    A           8830     A           13400\n",
       "3 USGS      09380000 2014-01-03 16600    A           8680     A           13500\n",
       "4 USGS      09380000 2014-01-04 16100    A           8750     A           12700\n",
       "5 USGS      09380000 2014-01-05 15600    A           8790     A           12100\n",
       "6 USGS      09380000 2014-01-06 16600    A           8790     A           13500\n",
       "  Flow_cd tz_cd\n",
       "1 A       UTC  \n",
       "2 A       UTC  \n",
       "3 A       UTC  \n",
       "4 A       UTC  \n",
       "5 A       UTC  \n",
       "6 A       UTC  "
      ]
     },
     "metadata": {},
     "output_type": "display_data"
    }
   ],
   "source": [
    "head(lf)"
   ]
  },
  {
   "cell_type": "code",
   "execution_count": 106,
   "metadata": {
    "collapsed": false
   },
   "outputs": [
    {
     "data": {
      "text/plain": [
       "  agency_cd           site_no             dateTime             Flow_Max    \n",
       " Length:1097        Length:1097        Min.   :2014-01-01   Min.   : 8280  \n",
       " Class :character   Class :character   1st Qu.:2014-10-02   1st Qu.:12700  \n",
       " Mode  :character   Mode  :character   Median :2015-07-03   Median :14200  \n",
       "                                       Mean   :2015-07-03   Mean   :14731  \n",
       "                                       3rd Qu.:2016-04-02   3rd Qu.:17100  \n",
       "                                       Max.   :2017-01-01   Max.   :38400  \n",
       " Flow_Max_cd           Flow_Min     Flow_Min_cd             Flow      \n",
       " Length:1097        Min.   : 5540   Length:1097        Min.   : 7180  \n",
       " Class :character   1st Qu.: 7390   Class :character   1st Qu.:10200  \n",
       " Mode  :character   Median : 8680   Mode  :character   Median :11900  \n",
       "                    Mean   : 9001                      Mean   :12111  \n",
       "                    3rd Qu.: 9980                      3rd Qu.:13700  \n",
       "                    Max.   :37700                      Max.   :38000  \n",
       "   Flow_cd             tz_cd          \n",
       " Length:1097        Length:1097       \n",
       " Class :character   Class :character  \n",
       " Mode  :character   Mode  :character  \n",
       "                                      \n",
       "                                      \n",
       "                                      "
      ]
     },
     "metadata": {},
     "output_type": "display_data"
    }
   ],
   "source": [
    "summary(lf)"
   ]
  },
  {
   "cell_type": "code",
   "execution_count": 14,
   "metadata": {
    "collapsed": false
   },
   "outputs": [
    {
     "data": {},
     "metadata": {},
     "output_type": "display_data"
    },
    {
     "data": {
      "image/png": "[encoded data removed]",
      "text/plain": [
       "plot without title"
      ]
     },
     "metadata": {},
     "output_type": "display_data"
    }
   ],
   "source": [
    "library(ggplot2)\n",
    "ts = ggplot(data = lf,\n",
    "             aes(dateTime, Flow)) + geom_line()\n",
    "ts"
   ]
  },
  {
   "cell_type": "code",
   "execution_count": 15,
   "metadata": {
    "collapsed": true
   },
   "outputs": [],
   "source": [
    "input_data = lf$Flow #daily mean flow"
   ]
  },
  {
   "cell_type": "markdown",
   "metadata": {},
   "source": [
    "Probability of having k occurrences of a thing within a given interval \n",
    "\n",
    "Let's compare the probability of 2 days per month with flow above 15,000 c.f.s with the probability 1 day per month with flow above 20,000 c.f.s"
   ]
  },
  {
   "cell_type": "code",
   "execution_count": 19,
   "metadata": {
    "collapsed": false
   },
   "outputs": [
    {
     "data": {
      "text/html": [
       "<ol class=list-inline>\n",
       "\t<li>1</li>\n",
       "\t<li>2</li>\n",
       "\t<li>3</li>\n",
       "\t<li>4</li>\n",
       "\t<li>5</li>\n",
       "\t<li>6</li>\n",
       "</ol>\n"
      ],
      "text/latex": [
       "\\begin{enumerate*}\n",
       "\\item 1\n",
       "\\item 2\n",
       "\\item 3\n",
       "\\item 4\n",
       "\\item 5\n",
       "\\item 6\n",
       "\\end{enumerate*}\n"
      ],
      "text/markdown": [
       "1. 1\n",
       "2. 2\n",
       "3. 3\n",
       "4. 4\n",
       "5. 5\n",
       "6. 6\n",
       "\n",
       "\n"
      ],
      "text/plain": [
       "[1] 1 2 3 4 5 6"
      ]
     },
     "metadata": {},
     "output_type": "display_data"
    },
    {
     "name": "stdout",
     "output_type": "stream",
     "text": [
      "[1] 36.56667\n",
      "[1] 2.652689\n",
      "Probability of 2 days per month over 15000 c.f.s is 0.2479102"
     ]
    }
   ],
   "source": [
    "# what is the probability of 2 days per month with flow above 15,000 c.f.s?\n",
    "thres = 15000 #cfs\n",
    "k = 2\n",
    "\n",
    "# how to I compute lambda?\n",
    "# define rate as the number of flows above 15,000 c.f.s in the measurement period (days/month)\n",
    "\n",
    "# I want a vector of the days, increasing from day 1 to day N\n",
    "days = seq(nrow(lf)) #sequence of days\n",
    "\n",
    "head(days)\n",
    "\n",
    "num_months = length(input_data)/30 #number of days / days in month\n",
    "\n",
    "print(num_months)\n",
    "\n",
    "# define rate as the number of flows above 15,000 c.f.s in the measurement period (days/month)\n",
    "lambda = length(days[input_data>thres]) / num_months\n",
    "print(lambda)\n",
    "\n",
    "# calculate\n",
    "pr = (lambda^k * exp(-lambda)) / factorial(k)\n",
    "\n",
    "cat('Probability of', k, 'days per month over', thres, 'c.f.s is', pr)"
   ]
  },
  {
   "cell_type": "code",
   "execution_count": 23,
   "metadata": {
    "collapsed": false
   },
   "outputs": [
    {
     "data": {
      "text/html": [
       "0.247910240199019"
      ],
      "text/latex": [
       "0.247910240199019"
      ],
      "text/markdown": [
       "0.247910240199019"
      ],
      "text/plain": [
       "[1] 0.2479102"
      ]
     },
     "metadata": {},
     "output_type": "display_data"
    }
   ],
   "source": [
    "# the 'R' function is dpois. Remember, \"d\" stands for density\n",
    "dpois(k, lambda)"
   ]
  },
  {
   "cell_type": "code",
   "execution_count": 24,
   "metadata": {
    "collapsed": false
   },
   "outputs": [
    {
     "data": {
      "text/html": [
       "0.505284110778674"
      ],
      "text/latex": [
       "0.505284110778674"
      ],
      "text/markdown": [
       "0.505284110778674"
      ],
      "text/plain": [
       "[1] 0.5052841"
      ]
     },
     "metadata": {},
     "output_type": "display_data"
    }
   ],
   "source": [
    "# ppois gives you the cumulative distribution, P(X <= x)\n",
    "# so the probability of 0, 1, or 2 days per month over 15,000 cfs is\n",
    "ppois(k, lambda)"
   ]
  },
  {
   "cell_type": "code",
   "execution_count": 25,
   "metadata": {
    "collapsed": false
   },
   "outputs": [
    {
     "name": "stdout",
     "output_type": "stream",
     "text": [
      "[1] 0.2461258\n",
      "Probability of 1 days per month over 20000 c.f.s is 0.192427"
     ]
    }
   ],
   "source": [
    "# Is it more likely to have 1 day per month with flow above 20,000 c.f.s?\n",
    "thres = 20000\n",
    "k = 1\n",
    "\n",
    "lambda = length(days[input_data>thres]) / num_months\n",
    "print(lambda)\n",
    "\n",
    "#pr = (lambda^k * exp(-lambda)) / factorial(k)\n",
    "pr = dpois(k, lambda)\n",
    "\n",
    "cat('Probability of', k, 'days per month over', thres, 'c.f.s is', pr)"
   ]
  },
  {
   "cell_type": "markdown",
   "metadata": {},
   "source": [
    "## Weibull Distribution"
   ]
  },
  {
   "cell_type": "markdown",
   "metadata": {},
   "source": [
    "The Weibull distribution with shape parameter a and scale parameter b has density given by\n",
    "\n",
    "$f(x) = (a/b) (x/b)^{a-1} \\exp(- (x/b)^a)$"
   ]
  },
  {
   "cell_type": "markdown",
   "metadata": {},
   "source": [
    "probabilities of extreme values (temperature, wind speed, sea level, etc)"
   ]
  },
  {
   "cell_type": "code",
   "execution_count": 113,
   "metadata": {
    "collapsed": true
   },
   "outputs": [],
   "source": [
    "#help(Weibull)"
   ]
  },
  {
   "cell_type": "markdown",
   "metadata": {},
   "source": [
    "Peak flow data are instantaneous discharge or stage data that record the maximum values of these\n",
    "variables during a flood event. They include the annual peak flood event but can also include records\n",
    "of other peaks that are lower than the annual maximum"
   ]
  },
  {
   "cell_type": "code",
   "execution_count": 26,
   "metadata": {
    "collapsed": false
   },
   "outputs": [],
   "source": [
    "# paria river flow. peak flow data goes back to 1924\n",
    "#https://waterdata.usgs.gov/nwis/uv?site_no=09382000\n",
    "siteNo = \"09382000\"\n",
    "\n",
    "peakData = readNWISpeak(siteNumbers = siteNo)\n",
    "\n",
    "peakData = renameNWISColumns(peakData)"
   ]
  },
  {
   "cell_type": "code",
   "execution_count": 27,
   "metadata": {
    "collapsed": false
   },
   "outputs": [
    {
     "data": {
      "text/html": [
       "<ol class=list-inline>\n",
       "\t<li>'#'</li>\n",
       "\t<li>'# U.S. Geological Survey'</li>\n",
       "\t<li>'# National Water Information System'</li>\n",
       "\t<li>'# Retrieved: 2017-02-08 13:08:55 EST'</li>\n",
       "\t<li>'#'</li>\n",
       "\t<li>'# ---------------------------------- WARNING ----------------------------------------'</li>\n",
       "\t<li>'# Some of the data that you have obtained from this U.S. Geological Survey database'</li>\n",
       "\t<li>'# may not have received Director\\'s approval. Any such data values are qualified'</li>\n",
       "\t<li>'# as provisional and are subject to revision. Provisional data are released on the'</li>\n",
       "\t<li>'# condition that neither the USGS nor the United States Government may be held liable'</li>\n",
       "\t<li>'# for any damages resulting from its use.'</li>\n",
       "\t<li>'#'</li>\n",
       "\t<li>'# More data may be available offline.'</li>\n",
       "\t<li><span style=white-space:pre-wrap>'# For more information on these data,  contact  USGS Water Data Inquiries.'</span></li>\n",
       "\t<li>'# This file contains the annual peak streamflow data.'</li>\n",
       "\t<li>'#'</li>\n",
       "\t<li>'# This information includes the following fields:'</li>\n",
       "\t<li>'#'</li>\n",
       "\t<li><span style=white-space:pre-wrap>'#  agency_cd     Agency Code'</span></li>\n",
       "\t<li><span style=white-space:pre-wrap>'#  site_no       USGS station number'</span></li>\n",
       "\t<li><span style=white-space:pre-wrap>'#  peak_dt       Date of peak streamflow (format YYYY-MM-DD)'</span></li>\n",
       "\t<li><span style=white-space:pre-wrap>'#  peak_tm       Time of peak streamflow (24 hour format, 00:00 - 23:59)'</span></li>\n",
       "\t<li><span style=white-space:pre-wrap>'#  peak_va       Annual peak streamflow value in cfs'</span></li>\n",
       "\t<li><span style=white-space:pre-wrap>'#  peak_cd       Peak Discharge-Qualification codes (see explanation below)'</span></li>\n",
       "\t<li><span style=white-space:pre-wrap>'#  gage_ht       Gage height for the associated peak streamflow in feet'</span></li>\n",
       "\t<li><span style=white-space:pre-wrap>'#  gage_ht_cd    Gage height qualification codes'</span></li>\n",
       "\t<li><span style=white-space:pre-wrap>'#  year_last_pk  Peak streamflow reported is the highest since this year'</span></li>\n",
       "\t<li><span style=white-space:pre-wrap>'#  ag_dt         Date of maximum gage-height for water year (if not concurrent with peak)'</span></li>\n",
       "\t<li><span style=white-space:pre-wrap>'#  ag_tm         Time of maximum gage-height for water year (if not concurrent with peak'</span></li>\n",
       "\t<li><span style=white-space:pre-wrap>'#  ag_gage_ht    maximum Gage height for water year in feet (if not concurrent with peak'</span></li>\n",
       "\t<li><span style=white-space:pre-wrap>'#  ag_gage_ht_cd maximum Gage height code'</span></li>\n",
       "\t<li>'#'</li>\n",
       "\t<li>'# Sites in this file include:'</li>\n",
       "\t<li><span style=white-space:pre-wrap>'#  USGS 09382000 PARIA RIVER AT LEES FERRY, AZ'</span></li>\n",
       "\t<li>'#'</li>\n",
       "\t<li>'# Peak Streamflow-Qualification Codes(peak_cd):'</li>\n",
       "\t<li><span style=white-space:pre-wrap>'#   1 ... Discharge is a Maximum Daily Average'</span></li>\n",
       "\t<li><span style=white-space:pre-wrap>'#   2 ... Discharge is an Estimate'</span></li>\n",
       "\t<li><span style=white-space:pre-wrap>'#   3 ... Discharge affected by Dam Failure'</span></li>\n",
       "\t<li><span style=white-space:pre-wrap>'#   4 ... Discharge less than indicated value,'</span></li>\n",
       "\t<li><span style=white-space:pre-wrap>'#           which is Minimum Recordable Discharge at this site'</span></li>\n",
       "\t<li><span style=white-space:pre-wrap>'#   5 ... Discharge affected to unknown degree by'</span></li>\n",
       "\t<li><span style=white-space:pre-wrap>'#           Regulation or Diversion'</span></li>\n",
       "\t<li><span style=white-space:pre-wrap>'#   6 ... Discharge affected by Regulation or Diversion'</span></li>\n",
       "\t<li><span style=white-space:pre-wrap>'#   7 ... Discharge is an Historic Peak'</span></li>\n",
       "\t<li><span style=white-space:pre-wrap>'#   8 ... Discharge actually greater than indicated value'</span></li>\n",
       "\t<li><span style=white-space:pre-wrap>'#   9 ... Discharge due to Snowmelt, Hurricane,'</span></li>\n",
       "\t<li><span style=white-space:pre-wrap>'#           Ice-Jam or Debris Dam breakup'</span></li>\n",
       "\t<li><span style=white-space:pre-wrap>'#   A ... Year of occurrence is unknown or not exact'</span></li>\n",
       "\t<li><span style=white-space:pre-wrap>'#   B ... Month or Day of occurrence is unknown or not exact'</span></li>\n",
       "\t<li><span style=white-space:pre-wrap>'#   C ... All or part of the record affected by Urbanization,'</span></li>\n",
       "\t<li><span style=white-space:pre-wrap>'#            Mining, Agricultural changes, Channelization, or other'</span></li>\n",
       "\t<li><span style=white-space:pre-wrap>'#   D ... Base Discharge changed during this year'</span></li>\n",
       "\t<li><span style=white-space:pre-wrap>'#   E ... Only Annual Maximum Peak available for this year'</span></li>\n",
       "\t<li>'#'</li>\n",
       "\t<li>'# Gage height qualification codes(gage_ht_cd,ag_gage_ht_cd):'</li>\n",
       "\t<li><span style=white-space:pre-wrap>'#   1 ... Gage height affected by backwater'</span></li>\n",
       "\t<li><span style=white-space:pre-wrap>'#   2 ... Gage height not the maximum for the year'</span></li>\n",
       "\t<li><span style=white-space:pre-wrap>'#   3 ... Gage height at different site and(or) datum'</span></li>\n",
       "\t<li><span style=white-space:pre-wrap>'#   4 ... Gage height below minimum recordable elevation'</span></li>\n",
       "\t<li><span style=white-space:pre-wrap>'#   5 ... Gage height is an estimate'</span></li>\n",
       "\t<li><span style=white-space:pre-wrap>'#   6 ... Gage datum changed during this year'</span></li>\n",
       "\t<li>'#'</li>\n",
       "\t<li>'#'</li>\n",
       "</ol>\n"
      ],
      "text/latex": [
       "\\begin{enumerate*}\n",
       "\\item '\\#'\n",
       "\\item '\\# U.S. Geological Survey'\n",
       "\\item '\\# National Water Information System'\n",
       "\\item '\\# Retrieved: 2017-02-08 13:08:55 EST'\n",
       "\\item '\\#'\n",
       "\\item '\\# ---------------------------------- WARNING ----------------------------------------'\n",
       "\\item '\\# Some of the data that you have obtained from this U.S. Geological Survey database'\n",
       "\\item '\\# may not have received Director\\textbackslash{}'s approval. Any such data values are qualified'\n",
       "\\item '\\# as provisional and are subject to revision. Provisional data are released on the'\n",
       "\\item '\\# condition that neither the USGS nor the United States Government may be held liable'\n",
       "\\item '\\# for any damages resulting from its use.'\n",
       "\\item '\\#'\n",
       "\\item '\\# More data may be available offline.'\n",
       "\\item '\\# For more information on these data,  contact  USGS Water Data Inquiries.'\n",
       "\\item '\\# This file contains the annual peak streamflow data.'\n",
       "\\item '\\#'\n",
       "\\item '\\# This information includes the following fields:'\n",
       "\\item '\\#'\n",
       "\\item '\\#  agency\\_cd     Agency Code'\n",
       "\\item '\\#  site\\_no       USGS station number'\n",
       "\\item '\\#  peak\\_dt       Date of peak streamflow (format YYYY-MM-DD)'\n",
       "\\item '\\#  peak\\_tm       Time of peak streamflow (24 hour format, 00:00 - 23:59)'\n",
       "\\item '\\#  peak\\_va       Annual peak streamflow value in cfs'\n",
       "\\item '\\#  peak\\_cd       Peak Discharge-Qualification codes (see explanation below)'\n",
       "\\item '\\#  gage\\_ht       Gage height for the associated peak streamflow in feet'\n",
       "\\item '\\#  gage\\_ht\\_cd    Gage height qualification codes'\n",
       "\\item '\\#  year\\_last\\_pk  Peak streamflow reported is the highest since this year'\n",
       "\\item '\\#  ag\\_dt         Date of maximum gage-height for water year (if not concurrent with peak)'\n",
       "\\item '\\#  ag\\_tm         Time of maximum gage-height for water year (if not concurrent with peak'\n",
       "\\item '\\#  ag\\_gage\\_ht    maximum Gage height for water year in feet (if not concurrent with peak'\n",
       "\\item '\\#  ag\\_gage\\_ht\\_cd maximum Gage height code'\n",
       "\\item '\\#'\n",
       "\\item '\\# Sites in this file include:'\n",
       "\\item '\\#  USGS 09382000 PARIA RIVER AT LEES FERRY, AZ'\n",
       "\\item '\\#'\n",
       "\\item '\\# Peak Streamflow-Qualification Codes(peak\\_cd):'\n",
       "\\item '\\#   1 ... Discharge is a Maximum Daily Average'\n",
       "\\item '\\#   2 ... Discharge is an Estimate'\n",
       "\\item '\\#   3 ... Discharge affected by Dam Failure'\n",
       "\\item '\\#   4 ... Discharge less than indicated value,'\n",
       "\\item '\\#           which is Minimum Recordable Discharge at this site'\n",
       "\\item '\\#   5 ... Discharge affected to unknown degree by'\n",
       "\\item '\\#           Regulation or Diversion'\n",
       "\\item '\\#   6 ... Discharge affected by Regulation or Diversion'\n",
       "\\item '\\#   7 ... Discharge is an Historic Peak'\n",
       "\\item '\\#   8 ... Discharge actually greater than indicated value'\n",
       "\\item '\\#   9 ... Discharge due to Snowmelt, Hurricane,'\n",
       "\\item '\\#           Ice-Jam or Debris Dam breakup'\n",
       "\\item '\\#   A ... Year of occurrence is unknown or not exact'\n",
       "\\item '\\#   B ... Month or Day of occurrence is unknown or not exact'\n",
       "\\item '\\#   C ... All or part of the record affected by Urbanization,'\n",
       "\\item '\\#            Mining, Agricultural changes, Channelization, or other'\n",
       "\\item '\\#   D ... Base Discharge changed during this year'\n",
       "\\item '\\#   E ... Only Annual Maximum Peak available for this year'\n",
       "\\item '\\#'\n",
       "\\item '\\# Gage height qualification codes(gage\\_ht\\_cd,ag\\_gage\\_ht\\_cd):'\n",
       "\\item '\\#   1 ... Gage height affected by backwater'\n",
       "\\item '\\#   2 ... Gage height not the maximum for the year'\n",
       "\\item '\\#   3 ... Gage height at different site and(or) datum'\n",
       "\\item '\\#   4 ... Gage height below minimum recordable elevation'\n",
       "\\item '\\#   5 ... Gage height is an estimate'\n",
       "\\item '\\#   6 ... Gage datum changed during this year'\n",
       "\\item '\\#'\n",
       "\\item '\\#'\n",
       "\\end{enumerate*}\n"
      ],
      "text/markdown": [
       "1. '#'\n",
       "2. '# U.S. Geological Survey'\n",
       "3. '# National Water Information System'\n",
       "4. '# Retrieved: 2017-02-08 13:08:55 EST'\n",
       "5. '#'\n",
       "6. '# ---------------------------------- WARNING ----------------------------------------'\n",
       "7. '# Some of the data that you have obtained from this U.S. Geological Survey database'\n",
       "8. '# may not have received Director\\'s approval. Any such data values are qualified'\n",
       "9. '# as provisional and are subject to revision. Provisional data are released on the'\n",
       "10. '# condition that neither the USGS nor the United States Government may be held liable'\n",
       "11. '# for any damages resulting from its use.'\n",
       "12. '#'\n",
       "13. '# More data may be available offline.'\n",
       "14. <span style=white-space:pre-wrap>'# For more information on these data,  contact  USGS Water Data Inquiries.'</span>\n",
       "15. '# This file contains the annual peak streamflow data.'\n",
       "16. '#'\n",
       "17. '# This information includes the following fields:'\n",
       "18. '#'\n",
       "19. <span style=white-space:pre-wrap>'#  agency_cd     Agency Code'</span>\n",
       "20. <span style=white-space:pre-wrap>'#  site_no       USGS station number'</span>\n",
       "21. <span style=white-space:pre-wrap>'#  peak_dt       Date of peak streamflow (format YYYY-MM-DD)'</span>\n",
       "22. <span style=white-space:pre-wrap>'#  peak_tm       Time of peak streamflow (24 hour format, 00:00 - 23:59)'</span>\n",
       "23. <span style=white-space:pre-wrap>'#  peak_va       Annual peak streamflow value in cfs'</span>\n",
       "24. <span style=white-space:pre-wrap>'#  peak_cd       Peak Discharge-Qualification codes (see explanation below)'</span>\n",
       "25. <span style=white-space:pre-wrap>'#  gage_ht       Gage height for the associated peak streamflow in feet'</span>\n",
       "26. <span style=white-space:pre-wrap>'#  gage_ht_cd    Gage height qualification codes'</span>\n",
       "27. <span style=white-space:pre-wrap>'#  year_last_pk  Peak streamflow reported is the highest since this year'</span>\n",
       "28. <span style=white-space:pre-wrap>'#  ag_dt         Date of maximum gage-height for water year (if not concurrent with peak)'</span>\n",
       "29. <span style=white-space:pre-wrap>'#  ag_tm         Time of maximum gage-height for water year (if not concurrent with peak'</span>\n",
       "30. <span style=white-space:pre-wrap>'#  ag_gage_ht    maximum Gage height for water year in feet (if not concurrent with peak'</span>\n",
       "31. <span style=white-space:pre-wrap>'#  ag_gage_ht_cd maximum Gage height code'</span>\n",
       "32. '#'\n",
       "33. '# Sites in this file include:'\n",
       "34. <span style=white-space:pre-wrap>'#  USGS 09382000 PARIA RIVER AT LEES FERRY, AZ'</span>\n",
       "35. '#'\n",
       "36. '# Peak Streamflow-Qualification Codes(peak_cd):'\n",
       "37. <span style=white-space:pre-wrap>'#   1 ... Discharge is a Maximum Daily Average'</span>\n",
       "38. <span style=white-space:pre-wrap>'#   2 ... Discharge is an Estimate'</span>\n",
       "39. <span style=white-space:pre-wrap>'#   3 ... Discharge affected by Dam Failure'</span>\n",
       "40. <span style=white-space:pre-wrap>'#   4 ... Discharge less than indicated value,'</span>\n",
       "41. <span style=white-space:pre-wrap>'#           which is Minimum Recordable Discharge at this site'</span>\n",
       "42. <span style=white-space:pre-wrap>'#   5 ... Discharge affected to unknown degree by'</span>\n",
       "43. <span style=white-space:pre-wrap>'#           Regulation or Diversion'</span>\n",
       "44. <span style=white-space:pre-wrap>'#   6 ... Discharge affected by Regulation or Diversion'</span>\n",
       "45. <span style=white-space:pre-wrap>'#   7 ... Discharge is an Historic Peak'</span>\n",
       "46. <span style=white-space:pre-wrap>'#   8 ... Discharge actually greater than indicated value'</span>\n",
       "47. <span style=white-space:pre-wrap>'#   9 ... Discharge due to Snowmelt, Hurricane,'</span>\n",
       "48. <span style=white-space:pre-wrap>'#           Ice-Jam or Debris Dam breakup'</span>\n",
       "49. <span style=white-space:pre-wrap>'#   A ... Year of occurrence is unknown or not exact'</span>\n",
       "50. <span style=white-space:pre-wrap>'#   B ... Month or Day of occurrence is unknown or not exact'</span>\n",
       "51. <span style=white-space:pre-wrap>'#   C ... All or part of the record affected by Urbanization,'</span>\n",
       "52. <span style=white-space:pre-wrap>'#            Mining, Agricultural changes, Channelization, or other'</span>\n",
       "53. <span style=white-space:pre-wrap>'#   D ... Base Discharge changed during this year'</span>\n",
       "54. <span style=white-space:pre-wrap>'#   E ... Only Annual Maximum Peak available for this year'</span>\n",
       "55. '#'\n",
       "56. '# Gage height qualification codes(gage_ht_cd,ag_gage_ht_cd):'\n",
       "57. <span style=white-space:pre-wrap>'#   1 ... Gage height affected by backwater'</span>\n",
       "58. <span style=white-space:pre-wrap>'#   2 ... Gage height not the maximum for the year'</span>\n",
       "59. <span style=white-space:pre-wrap>'#   3 ... Gage height at different site and(or) datum'</span>\n",
       "60. <span style=white-space:pre-wrap>'#   4 ... Gage height below minimum recordable elevation'</span>\n",
       "61. <span style=white-space:pre-wrap>'#   5 ... Gage height is an estimate'</span>\n",
       "62. <span style=white-space:pre-wrap>'#   6 ... Gage datum changed during this year'</span>\n",
       "63. '#'\n",
       "64. '#'\n",
       "\n",
       "\n"
      ],
      "text/plain": [
       " [1] \"#\"                                                                                        \n",
       " [2] \"# U.S. Geological Survey\"                                                                 \n",
       " [3] \"# National Water Information System\"                                                      \n",
       " [4] \"# Retrieved: 2017-02-08 13:08:55 EST\"                                                     \n",
       " [5] \"#\"                                                                                        \n",
       " [6] \"# ---------------------------------- WARNING ----------------------------------------\"    \n",
       " [7] \"# Some of the data that you have obtained from this U.S. Geological Survey database\"      \n",
       " [8] \"# may not have received Director's approval. Any such data values are qualified\"          \n",
       " [9] \"# as provisional and are subject to revision. Provisional data are released on the\"       \n",
       "[10] \"# condition that neither the USGS nor the United States Government may be held liable\"    \n",
       "[11] \"# for any damages resulting from its use.\"                                                \n",
       "[12] \"#\"                                                                                        \n",
       "[13] \"# More data may be available offline.\"                                                    \n",
       "[14] \"# For more information on these data,  contact  USGS Water Data Inquiries.\"               \n",
       "[15] \"# This file contains the annual peak streamflow data.\"                                    \n",
       "[16] \"#\"                                                                                        \n",
       "[17] \"# This information includes the following fields:\"                                        \n",
       "[18] \"#\"                                                                                        \n",
       "[19] \"#  agency_cd     Agency Code\"                                                             \n",
       "[20] \"#  site_no       USGS station number\"                                                     \n",
       "[21] \"#  peak_dt       Date of peak streamflow (format YYYY-MM-DD)\"                             \n",
       "[22] \"#  peak_tm       Time of peak streamflow (24 hour format, 00:00 - 23:59)\"                 \n",
       "[23] \"#  peak_va       Annual peak streamflow value in cfs\"                                     \n",
       "[24] \"#  peak_cd       Peak Discharge-Qualification codes (see explanation below)\"              \n",
       "[25] \"#  gage_ht       Gage height for the associated peak streamflow in feet\"                  \n",
       "[26] \"#  gage_ht_cd    Gage height qualification codes\"                                         \n",
       "[27] \"#  year_last_pk  Peak streamflow reported is the highest since this year\"                 \n",
       "[28] \"#  ag_dt         Date of maximum gage-height for water year (if not concurrent with peak)\"\n",
       "[29] \"#  ag_tm         Time of maximum gage-height for water year (if not concurrent with peak\" \n",
       "[30] \"#  ag_gage_ht    maximum Gage height for water year in feet (if not concurrent with peak\" \n",
       "[31] \"#  ag_gage_ht_cd maximum Gage height code\"                                                \n",
       "[32] \"#\"                                                                                        \n",
       "[33] \"# Sites in this file include:\"                                                            \n",
       "[34] \"#  USGS 09382000 PARIA RIVER AT LEES FERRY, AZ\"                                           \n",
       "[35] \"#\"                                                                                        \n",
       "[36] \"# Peak Streamflow-Qualification Codes(peak_cd):\"                                          \n",
       "[37] \"#   1 ... Discharge is a Maximum Daily Average\"                                           \n",
       "[38] \"#   2 ... Discharge is an Estimate\"                                                       \n",
       "[39] \"#   3 ... Discharge affected by Dam Failure\"                                              \n",
       "[40] \"#   4 ... Discharge less than indicated value,\"                                           \n",
       "[41] \"#           which is Minimum Recordable Discharge at this site\"                           \n",
       "[42] \"#   5 ... Discharge affected to unknown degree by\"                                        \n",
       "[43] \"#           Regulation or Diversion\"                                                      \n",
       "[44] \"#   6 ... Discharge affected by Regulation or Diversion\"                                  \n",
       "[45] \"#   7 ... Discharge is an Historic Peak\"                                                  \n",
       "[46] \"#   8 ... Discharge actually greater than indicated value\"                                \n",
       "[47] \"#   9 ... Discharge due to Snowmelt, Hurricane,\"                                          \n",
       "[48] \"#           Ice-Jam or Debris Dam breakup\"                                                \n",
       "[49] \"#   A ... Year of occurrence is unknown or not exact\"                                     \n",
       "[50] \"#   B ... Month or Day of occurrence is unknown or not exact\"                             \n",
       "[51] \"#   C ... All or part of the record affected by Urbanization,\"                            \n",
       "[52] \"#            Mining, Agricultural changes, Channelization, or other\"                      \n",
       "[53] \"#   D ... Base Discharge changed during this year\"                                        \n",
       "[54] \"#   E ... Only Annual Maximum Peak available for this year\"                               \n",
       "[55] \"#\"                                                                                        \n",
       "[56] \"# Gage height qualification codes(gage_ht_cd,ag_gage_ht_cd):\"                             \n",
       "[57] \"#   1 ... Gage height affected by backwater\"                                              \n",
       "[58] \"#   2 ... Gage height not the maximum for the year\"                                       \n",
       "[59] \"#   3 ... Gage height at different site and(or) datum\"                                    \n",
       "[60] \"#   4 ... Gage height below minimum recordable elevation\"                                 \n",
       "[61] \"#   5 ... Gage height is an estimate\"                                                     \n",
       "[62] \"#   6 ... Gage datum changed during this year\"                                            \n",
       "[63] \"#\"                                                                                        \n",
       "[64] \"#\"                                                                                        "
      ]
     },
     "metadata": {},
     "output_type": "display_data"
    }
   ],
   "source": [
    "comment(peakData)"
   ]
  },
  {
   "cell_type": "code",
   "execution_count": 28,
   "metadata": {
    "collapsed": false
   },
   "outputs": [
    {
     "data": {
      "text/html": [
       "<table>\n",
       "<thead><tr><th scope=col>agency_cd</th><th scope=col>site_no</th><th scope=col>peak_dt</th><th scope=col>peak_tm</th><th scope=col>peak_va</th><th scope=col>peak_cd</th><th scope=col>gage_ht</th><th scope=col>gage_ht_cd</th><th scope=col>year_last_pk</th><th scope=col>ag_dt</th><th scope=col>ag_tm</th><th scope=col>ag_gage_ht</th><th scope=col>ag_gage_ht_cd</th><th scope=col>peak_dateTime</th></tr></thead>\n",
       "<tbody>\n",
       "\t<tr><td>USGS      </td><td>09382000  </td><td>1924-09-10</td><td>NA        </td><td> 4330     </td><td>E         </td><td> 6.0      </td><td>3         </td><td>NA        </td><td>NA        </td><td>NA        </td><td>NA        </td><td>NA        </td><td>NA        </td></tr>\n",
       "\t<tr><td>USGS      </td><td>09382000  </td><td>1925-09-19</td><td>NA        </td><td> 4800     </td><td>E         </td><td> 6.5      </td><td>3         </td><td>NA        </td><td>NA        </td><td>NA        </td><td>NA        </td><td>NA        </td><td>NA        </td></tr>\n",
       "\t<tr><td>USGS      </td><td>09382000  </td><td>1925-10-05</td><td>NA        </td><td>16100     </td><td>E         </td><td>16.3      </td><td>6         </td><td>NA        </td><td>NA        </td><td>NA        </td><td>NA        </td><td>NA        </td><td>NA        </td></tr>\n",
       "\t<tr><td>USGS      </td><td>09382000  </td><td>1927-09-13</td><td>NA        </td><td>14300     </td><td>E         </td><td>16.0      </td><td>NA        </td><td>NA        </td><td>NA        </td><td>NA        </td><td>NA        </td><td>NA        </td><td>NA        </td></tr>\n",
       "\t<tr><td>USGS      </td><td>09382000  </td><td>1928-07-16</td><td>NA        </td><td> 2960     </td><td>E         </td><td> 7.5      </td><td>NA        </td><td>NA        </td><td>NA        </td><td>NA        </td><td>NA        </td><td>NA        </td><td>NA        </td></tr>\n",
       "\t<tr><td>USGS      </td><td>09382000  </td><td>1929-08-02</td><td>NA        </td><td>12000     </td><td>NA        </td><td>13.8      </td><td>NA        </td><td>NA        </td><td>NA        </td><td>NA        </td><td>NA        </td><td>NA        </td><td>NA        </td></tr>\n",
       "</tbody>\n",
       "</table>\n"
      ],
      "text/latex": [
       "\\begin{tabular}{r|llllllllllllll}\n",
       " agency\\_cd & site\\_no & peak\\_dt & peak\\_tm & peak\\_va & peak\\_cd & gage\\_ht & gage\\_ht\\_cd & year\\_last\\_pk & ag\\_dt & ag\\_tm & ag\\_gage\\_ht & ag\\_gage\\_ht\\_cd & peak\\_dateTime\\\\\n",
       "\\hline\n",
       "\t USGS       & 09382000   & 1924-09-10 & NA         &  4330      & E          &  6.0       & 3          & NA         & NA         & NA         & NA         & NA         & NA        \\\\\n",
       "\t USGS       & 09382000   & 1925-09-19 & NA         &  4800      & E          &  6.5       & 3          & NA         & NA         & NA         & NA         & NA         & NA        \\\\\n",
       "\t USGS       & 09382000   & 1925-10-05 & NA         & 16100      & E          & 16.3       & 6          & NA         & NA         & NA         & NA         & NA         & NA        \\\\\n",
       "\t USGS       & 09382000   & 1927-09-13 & NA         & 14300      & E          & 16.0       & NA         & NA         & NA         & NA         & NA         & NA         & NA        \\\\\n",
       "\t USGS       & 09382000   & 1928-07-16 & NA         &  2960      & E          &  7.5       & NA         & NA         & NA         & NA         & NA         & NA         & NA        \\\\\n",
       "\t USGS       & 09382000   & 1929-08-02 & NA         & 12000      & NA         & 13.8       & NA         & NA         & NA         & NA         & NA         & NA         & NA        \\\\\n",
       "\\end{tabular}\n"
      ],
      "text/markdown": [
       "\n",
       "agency_cd | site_no | peak_dt | peak_tm | peak_va | peak_cd | gage_ht | gage_ht_cd | year_last_pk | ag_dt | ag_tm | ag_gage_ht | ag_gage_ht_cd | peak_dateTime | \n",
       "|---|---|---|---|---|---|\n",
       "| USGS       | 09382000   | 1924-09-10 | NA         |  4330      | E          |  6.0       | 3          | NA         | NA         | NA         | NA         | NA         | NA         | \n",
       "| USGS       | 09382000   | 1925-09-19 | NA         |  4800      | E          |  6.5       | 3          | NA         | NA         | NA         | NA         | NA         | NA         | \n",
       "| USGS       | 09382000   | 1925-10-05 | NA         | 16100      | E          | 16.3       | 6          | NA         | NA         | NA         | NA         | NA         | NA         | \n",
       "| USGS       | 09382000   | 1927-09-13 | NA         | 14300      | E          | 16.0       | NA         | NA         | NA         | NA         | NA         | NA         | NA         | \n",
       "| USGS       | 09382000   | 1928-07-16 | NA         |  2960      | E          |  7.5       | NA         | NA         | NA         | NA         | NA         | NA         | NA         | \n",
       "| USGS       | 09382000   | 1929-08-02 | NA         | 12000      | NA         | 13.8       | NA         | NA         | NA         | NA         | NA         | NA         | NA         | \n",
       "\n",
       "\n"
      ],
      "text/plain": [
       "  agency_cd site_no  peak_dt    peak_tm peak_va peak_cd gage_ht gage_ht_cd\n",
       "1 USGS      09382000 1924-09-10 NA       4330   E        6.0    3         \n",
       "2 USGS      09382000 1925-09-19 NA       4800   E        6.5    3         \n",
       "3 USGS      09382000 1925-10-05 NA      16100   E       16.3    6         \n",
       "4 USGS      09382000 1927-09-13 NA      14300   E       16.0    NA        \n",
       "5 USGS      09382000 1928-07-16 NA       2960   E        7.5    NA        \n",
       "6 USGS      09382000 1929-08-02 NA      12000   NA      13.8    NA        \n",
       "  year_last_pk ag_dt ag_tm ag_gage_ht ag_gage_ht_cd peak_dateTime\n",
       "1 NA           <NA>  NA    NA         NA            <NA>         \n",
       "2 NA           <NA>  NA    NA         NA            <NA>         \n",
       "3 NA           <NA>  NA    NA         NA            <NA>         \n",
       "4 NA           <NA>  NA    NA         NA            <NA>         \n",
       "5 NA           <NA>  NA    NA         NA            <NA>         \n",
       "6 NA           <NA>  NA    NA         NA            <NA>         "
      ]
     },
     "metadata": {},
     "output_type": "display_data"
    },
    {
     "data": {
      "text/html": [
       "<table>\n",
       "<thead><tr><th></th><th scope=col>agency_cd</th><th scope=col>site_no</th><th scope=col>peak_dt</th><th scope=col>peak_tm</th><th scope=col>peak_va</th><th scope=col>peak_cd</th><th scope=col>gage_ht</th><th scope=col>gage_ht_cd</th><th scope=col>year_last_pk</th><th scope=col>ag_dt</th><th scope=col>ag_tm</th><th scope=col>ag_gage_ht</th><th scope=col>ag_gage_ht_cd</th><th scope=col>peak_dateTime</th></tr></thead>\n",
       "<tbody>\n",
       "\t<tr><th scope=row>87</th><td>USGS               </td><td>09382000           </td><td>2010-08-08         </td><td>22:57              </td><td>5620               </td><td>NA                 </td><td>10.83              </td><td>NA                 </td><td>NA                 </td><td>NA                 </td><td>NA                 </td><td>NA                 </td><td>NA                 </td><td>2010-08-08 22:57:00</td></tr>\n",
       "\t<tr><th scope=row>88</th><td>USGS      </td><td>09382000  </td><td>2010-10-06</td><td>NA        </td><td>3640      </td><td>NA        </td><td> 9.71     </td><td>NA        </td><td>NA        </td><td>NA        </td><td>NA        </td><td>NA        </td><td>NA        </td><td>NA        </td></tr>\n",
       "\t<tr><th scope=row>89</th><td>USGS      </td><td>09382000  </td><td>2012-08-20</td><td>NA        </td><td>2290      </td><td>NA        </td><td> 8.73     </td><td>NA        </td><td>NA        </td><td>NA        </td><td>NA        </td><td>NA        </td><td>NA        </td><td>NA        </td></tr>\n",
       "\t<tr><th scope=row>90</th><td>USGS      </td><td>09382000  </td><td>2013-09-11</td><td>NA        </td><td>5890      </td><td>NA        </td><td>13.40     </td><td>NA        </td><td>NA        </td><td>NA        </td><td>NA        </td><td>NA        </td><td>NA        </td><td>NA        </td></tr>\n",
       "\t<tr><th scope=row>91</th><td>USGS               </td><td>09382000           </td><td>2014-09-28         </td><td>073630             </td><td>6210               </td><td>NA                 </td><td>13.78              </td><td>NA                 </td><td>NA                 </td><td>NA                 </td><td>NA                 </td><td>NA                 </td><td>NA                 </td><td>2014-09-28 07:36:30</td></tr>\n",
       "\t<tr><th scope=row>92</th><td>USGS               </td><td>09382000           </td><td>2015-09-15         </td><td>19:15              </td><td>2040               </td><td>NA                 </td><td> 8.70              </td><td>NA                 </td><td>NA                 </td><td>NA                 </td><td>NA                 </td><td>NA                 </td><td>NA                 </td><td>2015-09-15 19:15:00</td></tr>\n",
       "</tbody>\n",
       "</table>\n"
      ],
      "text/latex": [
       "\\begin{tabular}{r|llllllllllllll}\n",
       "  & agency\\_cd & site\\_no & peak\\_dt & peak\\_tm & peak\\_va & peak\\_cd & gage\\_ht & gage\\_ht\\_cd & year\\_last\\_pk & ag\\_dt & ag\\_tm & ag\\_gage\\_ht & ag\\_gage\\_ht\\_cd & peak\\_dateTime\\\\\n",
       "\\hline\n",
       "\t87 & USGS                & 09382000            & 2010-08-08          & 22:57               & 5620                & NA                  & 10.83               & NA                  & NA                  & NA                  & NA                  & NA                  & NA                  & 2010-08-08 22:57:00\\\\\n",
       "\t88 & USGS       & 09382000   & 2010-10-06 & NA         & 3640       & NA         &  9.71      & NA         & NA         & NA         & NA         & NA         & NA         & NA        \\\\\n",
       "\t89 & USGS       & 09382000   & 2012-08-20 & NA         & 2290       & NA         &  8.73      & NA         & NA         & NA         & NA         & NA         & NA         & NA        \\\\\n",
       "\t90 & USGS       & 09382000   & 2013-09-11 & NA         & 5890       & NA         & 13.40      & NA         & NA         & NA         & NA         & NA         & NA         & NA        \\\\\n",
       "\t91 & USGS                & 09382000            & 2014-09-28          & 073630              & 6210                & NA                  & 13.78               & NA                  & NA                  & NA                  & NA                  & NA                  & NA                  & 2014-09-28 07:36:30\\\\\n",
       "\t92 & USGS                & 09382000            & 2015-09-15          & 19:15               & 2040                & NA                  &  8.70               & NA                  & NA                  & NA                  & NA                  & NA                  & NA                  & 2015-09-15 19:15:00\\\\\n",
       "\\end{tabular}\n"
      ],
      "text/markdown": [
       "\n",
       "| <!--/--> | agency_cd | site_no | peak_dt | peak_tm | peak_va | peak_cd | gage_ht | gage_ht_cd | year_last_pk | ag_dt | ag_tm | ag_gage_ht | ag_gage_ht_cd | peak_dateTime | \n",
       "|---|---|---|---|---|---|\n",
       "| 87 | USGS                | 09382000            | 2010-08-08          | 22:57               | 5620                | NA                  | 10.83               | NA                  | NA                  | NA                  | NA                  | NA                  | NA                  | 2010-08-08 22:57:00 | \n",
       "| 88 | USGS       | 09382000   | 2010-10-06 | NA         | 3640       | NA         |  9.71      | NA         | NA         | NA         | NA         | NA         | NA         | NA         | \n",
       "| 89 | USGS       | 09382000   | 2012-08-20 | NA         | 2290       | NA         |  8.73      | NA         | NA         | NA         | NA         | NA         | NA         | NA         | \n",
       "| 90 | USGS       | 09382000   | 2013-09-11 | NA         | 5890       | NA         | 13.40      | NA         | NA         | NA         | NA         | NA         | NA         | NA         | \n",
       "| 91 | USGS                | 09382000            | 2014-09-28          | 073630              | 6210                | NA                  | 13.78               | NA                  | NA                  | NA                  | NA                  | NA                  | NA                  | 2014-09-28 07:36:30 | \n",
       "| 92 | USGS                | 09382000            | 2015-09-15          | 19:15               | 2040                | NA                  |  8.70               | NA                  | NA                  | NA                  | NA                  | NA                  | NA                  | 2015-09-15 19:15:00 | \n",
       "\n",
       "\n"
      ],
      "text/plain": [
       "   agency_cd site_no  peak_dt    peak_tm peak_va peak_cd gage_ht gage_ht_cd\n",
       "87 USGS      09382000 2010-08-08 22:57   5620    NA      10.83   NA        \n",
       "88 USGS      09382000 2010-10-06 NA      3640    NA       9.71   NA        \n",
       "89 USGS      09382000 2012-08-20 NA      2290    NA       8.73   NA        \n",
       "90 USGS      09382000 2013-09-11 NA      5890    NA      13.40   NA        \n",
       "91 USGS      09382000 2014-09-28 073630  6210    NA      13.78   NA        \n",
       "92 USGS      09382000 2015-09-15 19:15   2040    NA       8.70   NA        \n",
       "   year_last_pk ag_dt ag_tm ag_gage_ht ag_gage_ht_cd peak_dateTime      \n",
       "87 NA           <NA>  NA    NA         NA            2010-08-08 22:57:00\n",
       "88 NA           <NA>  NA    NA         NA            <NA>               \n",
       "89 NA           <NA>  NA    NA         NA            <NA>               \n",
       "90 NA           <NA>  NA    NA         NA            <NA>               \n",
       "91 NA           <NA>  NA    NA         NA            2014-09-28 07:36:30\n",
       "92 NA           <NA>  NA    NA         NA            2015-09-15 19:15:00"
      ]
     },
     "metadata": {},
     "output_type": "display_data"
    },
    {
     "data": {
      "text/html": [
       "92"
      ],
      "text/latex": [
       "92"
      ],
      "text/markdown": [
       "92"
      ],
      "text/plain": [
       "[1] 92"
      ]
     },
     "metadata": {},
     "output_type": "display_data"
    }
   ],
   "source": [
    "head(peakData)\n",
    "tail(peakData)\n",
    "length(peakData$peak_va)"
   ]
  },
  {
   "cell_type": "code",
   "execution_count": 29,
   "metadata": {
    "collapsed": false
   },
   "outputs": [
    {
     "data": {},
     "metadata": {},
     "output_type": "display_data"
    },
    {
     "data": {
      "image/png": "[encoded data removed]",
      "text/plain": [
       "plot without title"
      ]
     },
     "metadata": {},
     "output_type": "display_data"
    }
   ],
   "source": [
    "#We're interested in working with daily max values\n",
    "ts = ggplot(data = peakData,\n",
    "             aes(peak_dt, peak_va)) +\n",
    "      geom_line()\n",
    "ts"
   ]
  },
  {
   "cell_type": "code",
   "execution_count": 32,
   "metadata": {
    "collapsed": false
   },
   "outputs": [
    {
     "data": {
      "image/png": "[encoded data removed]",
      "text/plain": [
       "plot without title"
      ]
     },
     "metadata": {},
     "output_type": "display_data"
    }
   ],
   "source": [
    "yearly.flowmax = peakData$peak_va\n",
    "\n",
    "# parameter estimation\n",
    "# finding the parameters of a probability model from your data\n",
    "# R excels in this.\n",
    "library(MASS)\n",
    "gf = fitdistr(yearly.flowmax, densfun=\"weibull\", lower = 0)\n",
    "\n",
    "#install.packages(\"car\")\n",
    "# car stands for \"companion to applied regression\"\n",
    "# allows us to do a qq (quantile-quantile) plot for a weibull distribution\n",
    "library(car)\n",
    "\n",
    "# qq-plot for annual flow maxima\n",
    "qqPlot(yearly.flowmax , distribution=\"weibull\", scale=gf$estimate[2], shape=gf$estimate[1])"
   ]
  },
  {
   "cell_type": "markdown",
   "metadata": {},
   "source": [
    "As you can see, the Weibull distribution fits the data well.\n",
    "\n",
    "What are the dashed lines? They are confidence intervals. If our observations fall within them, we are 95% confident that the data fit the model at that quantile"
   ]
  },
  {
   "cell_type": "code",
   "execution_count": 36,
   "metadata": {
    "collapsed": false
   },
   "outputs": [
    {
     "data": {
      "image/png": "[encoded data removed]",
      "text/plain": [
       "plot without title"
      ]
     },
     "metadata": {},
     "output_type": "display_data"
    }
   ],
   "source": [
    "# if we change the confidence interval to 0.5, the envelope narrows. \n",
    "# Why? Because that's the level at which there is 50% uncertainty that the data fit the model (instead of 5%)\n",
    "qqPlot(yearly.flowmax , distribution=\"weibull\", scale=gf$estimate[2], shape=gf$estimate[1], envelope=.5)"
   ]
  },
  {
   "cell_type": "code",
   "execution_count": 38,
   "metadata": {
    "collapsed": false
   },
   "outputs": [
    {
     "name": "stderr",
     "output_type": "stream",
     "text": [
      "Loading required package: survival\n"
     ]
    },
    {
     "data": {
      "image/png": "[encoded data removed]",
      "text/plain": [
       "Plot with title \"P-P plot\""
      ]
     },
     "metadata": {},
     "output_type": "display_data"
    }
   ],
   "source": [
    "# the fitdistrplus also does parameter estimation but allows us to make more fancy graphs\n",
    "#install.packages(\"fitdistrplus\")\n",
    "library(fitdistrplus)\n",
    "\n",
    "#for comparative purposes, we'll fit a normal distribution to the same data\n",
    "norm.fit = fitdist(yearly.flowmax, \"norm\")\n",
    "plot(norm.fit)"
   ]
  },
  {
   "cell_type": "code",
   "execution_count": 39,
   "metadata": {
    "collapsed": false
   },
   "outputs": [
    {
     "data": {
      "image/png": "[encoded data removed]",
      "text/plain": [
       "Plot with title \"P-P plot\""
      ]
     },
     "metadata": {},
     "output_type": "display_data"
    }
   ],
   "source": [
    "weibull.fit = fitdist(yearly.flowmax , \"weibull\")\n",
    "plot(weibull.fit)"
   ]
  },
  {
   "cell_type": "code",
   "execution_count": 41,
   "metadata": {
    "collapsed": false
   },
   "outputs": [
    {
     "data": {
      "text/html": [
       "<dl class=dl-horizontal>\n",
       "\t<dt>1-mle-weibull</dt>\n",
       "\t\t<dd>'not rejected'</dd>\n",
       "\t<dt>2-mle-norm</dt>\n",
       "\t\t<dd>'rejected'</dd>\n",
       "</dl>\n"
      ],
      "text/latex": [
       "\\begin{description*}\n",
       "\\item[1-mle-weibull] 'not rejected'\n",
       "\\item[2-mle-norm] 'rejected'\n",
       "\\end{description*}\n"
      ],
      "text/markdown": [
       "1-mle-weibull\n",
       ":   'not rejected'2-mle-norm\n",
       ":   'rejected'\n",
       "\n"
      ],
      "text/plain": [
       " 1-mle-weibull     2-mle-norm \n",
       "\"not rejected\"     \"rejected\" "
      ]
     },
     "metadata": {},
     "output_type": "display_data"
    }
   ],
   "source": [
    "## Null hypothesis: the sample is compatible with a (Weibull | Normal) distribution\n",
    "\n",
    "# 'goodness-of-fit' statistic (part of the fitdistrplus package)\n",
    "gf = gofstat(list(weibull.fit, norm.fit))\n",
    "\n",
    "## Kolmogorov-Smirnov-Test (KS-Test)\n",
    "# used to compare a sample with a reference probability distribution (compares cumulative probability distributions)\n",
    "gf$kstest"
   ]
  },
  {
   "cell_type": "markdown",
   "metadata": {},
   "source": [
    "## Exponential Distribution"
   ]
  },
  {
   "cell_type": "markdown",
   "metadata": {},
   "source": [
    "$f(x) = \\lambda e^{-\\lambda x}$"
   ]
  },
  {
   "cell_type": "markdown",
   "metadata": {},
   "source": [
    "The areas in thousands of square miles of the landmasses which exceed 10,000 square miles. lambda is a rate"
   ]
  },
  {
   "cell_type": "code",
   "execution_count": 42,
   "metadata": {
    "collapsed": true
   },
   "outputs": [],
   "source": [
    "data(islands)"
   ]
  },
  {
   "cell_type": "code",
   "execution_count": 43,
   "metadata": {
    "collapsed": true
   },
   "outputs": [],
   "source": [
    "#install.packages(\"fitdistrplus\")\n",
    "#library(fitdistrplus)"
   ]
  },
  {
   "cell_type": "code",
   "execution_count": 50,
   "metadata": {
    "collapsed": false
   },
   "outputs": [],
   "source": [
    "#convert square miles to square km\n",
    "islands = islands * 2.58999\n",
    "exp.fit = fitdistr(islands, \"exponential\")\n",
    "\n",
    "#exp.fit = fitdist(yearly.flowmax, \"exponential\")"
   ]
  },
  {
   "cell_type": "code",
   "execution_count": 51,
   "metadata": {
    "collapsed": false
   },
   "outputs": [
    {
     "data": {
      "image/png": "[encoded data removed]",
      "text/plain": [
       "Plot with title \"Histogram of islands\""
      ]
     },
     "metadata": {},
     "output_type": "display_data"
    }
   ],
   "source": [
    "hist(islands, freq = FALSE, xlab='sq. km')\n",
    "curve(dexp(x, rate = exp.fit$estimate), col = \"red\", add = TRUE)"
   ]
  },
  {
   "cell_type": "code",
   "execution_count": 52,
   "metadata": {
    "collapsed": false
   },
   "outputs": [
    {
     "name": "stderr",
     "output_type": "stream",
     "text": [
      "Warning message in ks.test(islands, \"pexp\", exp.fit$estimate):\n",
      "\"ties should not be present for the Kolmogorov-Smirnov test\""
     ]
    },
    {
     "data": {
      "text/html": [
       "TRUE"
      ],
      "text/latex": [
       "TRUE"
      ],
      "text/markdown": [
       "TRUE"
      ],
      "text/plain": [
       "[1] TRUE"
      ]
     },
     "metadata": {},
     "output_type": "display_data"
    }
   ],
   "source": [
    "## Null hypothesis: the sample is compatible with an Exponential  distribution\n",
    "\n",
    "ks.test(islands, \"pexp\", exp.fit$estimate)$p.value < 0.05 ## p-value < 0.05 == distribution accepted"
   ]
  },
  {
   "cell_type": "markdown",
   "metadata": {},
   "source": [
    "## Central Limit Theorem"
   ]
  },
  {
   "cell_type": "markdown",
   "metadata": {
    "collapsed": true
   },
   "source": [
    "The distribution of averages of iid (independent and identically distributed) variables becomes that of a standard normal as the sample size increases, the following quantity"
   ]
  },
  {
   "cell_type": "markdown",
   "metadata": {},
   "source": [
    "t = $\\frac{\\overline{X_n}-\\mu}{\\sigma/\\sqrt{n}}$\n"
   ]
  },
  {
   "cell_type": "markdown",
   "metadata": {},
   "source": [
    "has a distribution like that of a standard normal for large n."
   ]
  },
  {
   "cell_type": "code",
   "execution_count": 63,
   "metadata": {
    "collapsed": false
   },
   "outputs": [
    {
     "data": {
      "text/html": [
       "<ol class=list-inline>\n",
       "\t<li>4.017</li>\n",
       "\t<li>4.063</li>\n",
       "\t<li>4.057</li>\n",
       "\t<li>3.986</li>\n",
       "\t<li>4.028</li>\n",
       "\t<li>3.999</li>\n",
       "\t<li>3.904</li>\n",
       "\t<li>4.032</li>\n",
       "\t<li>4.003</li>\n",
       "\t<li>3.942</li>\n",
       "\t<li>3.93</li>\n",
       "\t<li>4.079</li>\n",
       "\t<li>4.039</li>\n",
       "\t<li>4</li>\n",
       "\t<li>3.974</li>\n",
       "\t<li>4.085</li>\n",
       "\t<li>3.974</li>\n",
       "\t<li>3.966</li>\n",
       "\t<li>4.032</li>\n",
       "\t<li>4.049</li>\n",
       "</ol>\n"
      ],
      "text/latex": [
       "\\begin{enumerate*}\n",
       "\\item 4.017\n",
       "\\item 4.063\n",
       "\\item 4.057\n",
       "\\item 3.986\n",
       "\\item 4.028\n",
       "\\item 3.999\n",
       "\\item 3.904\n",
       "\\item 4.032\n",
       "\\item 4.003\n",
       "\\item 3.942\n",
       "\\item 3.93\n",
       "\\item 4.079\n",
       "\\item 4.039\n",
       "\\item 4\n",
       "\\item 3.974\n",
       "\\item 4.085\n",
       "\\item 3.974\n",
       "\\item 3.966\n",
       "\\item 4.032\n",
       "\\item 4.049\n",
       "\\end{enumerate*}\n"
      ],
      "text/markdown": [
       "1. 4.017\n",
       "2. 4.063\n",
       "3. 4.057\n",
       "4. 3.986\n",
       "5. 4.028\n",
       "6. 3.999\n",
       "7. 3.904\n",
       "8. 4.032\n",
       "9. 4.003\n",
       "10. 3.942\n",
       "11. 3.93\n",
       "12. 4.079\n",
       "13. 4.039\n",
       "14. 4\n",
       "15. 3.974\n",
       "16. 4.085\n",
       "17. 3.974\n",
       "18. 3.966\n",
       "19. 4.032\n",
       "20. 4.049\n",
       "\n",
       "\n"
      ],
      "text/plain": [
       " [1] 4.017 4.063 4.057 3.986 4.028 3.999 3.904 4.032 4.003 3.942 3.930 4.079\n",
       "[13] 4.039 4.000 3.974 4.085 3.974 3.966 4.032 4.049"
      ]
     },
     "metadata": {},
     "output_type": "display_data"
    }
   ],
   "source": [
    "# simulate 1000 samples from poisson distribution\n",
    "lambda=4\n",
    "n = 1000\n",
    "\n",
    "mns = NULL #initialize vector for mns\n",
    "for (i in 1 : 1000) mns = c(mns, mean(rpois(n,lambda)))\n",
    "    \n",
    "#'head' defaults to 10, but you can change that\n",
    "head(mns, n=20)"
   ]
  },
  {
   "cell_type": "code",
   "execution_count": 65,
   "metadata": {
    "collapsed": false
   },
   "outputs": [
    {
     "data": {
      "image/png": "[encoded data removed]",
      "text/plain": [
       "Plot with title \"Histogram of rpois(n, lambda)\""
      ]
     },
     "metadata": {},
     "output_type": "display_data"
    }
   ],
   "source": [
    "#let's create a dataframe because that plays nicely with ggplot    \n",
    "datamns=data.frame(xmns=mns)\n",
    "datamn=mean(datamns$xmns) # simulated sample mean\n",
    "\n",
    "# you can see that poisson doesn't look normal if we create a random sample\n",
    "hist(rpois(n,lambda))"
   ]
  },
  {
   "cell_type": "code",
   "execution_count": 68,
   "metadata": {
    "collapsed": false
   },
   "outputs": [
    {
     "data": {},
     "metadata": {},
     "output_type": "display_data"
    },
    {
     "data": {
      "image/png": "[encoded data removed]",
      "text/plain": [
       "plot without title"
      ]
     },
     "metadata": {},
     "output_type": "display_data"
    }
   ],
   "source": [
    "b = ggplot(datamns, aes(x = xmns)) +  geom_histogram(alpha = .20, binwidth=.1, colour = \"black\")+\n",
    "        labs(x=\"Sample mean\",y=\"Frequency\")+\n",
    "        ggtitle(\"Histogram of Poisson Sample Means\")\n",
    "\n",
    "b"
   ]
  },
  {
   "cell_type": "code",
   "execution_count": 69,
   "metadata": {
    "collapsed": false
   },
   "outputs": [
    {
     "name": "stdout",
     "output_type": "stream",
     "text": [
      "Theoretical mean: 4 , Experimental mean:  4"
     ]
    }
   ],
   "source": [
    "datamn=round(mean(datamns$xmns),2)\n",
    "cat(\"Theoretical mean:\",lambda,\", Experimental mean: \",datamn)"
   ]
  },
  {
   "cell_type": "markdown",
   "metadata": {},
   "source": [
    "# Error"
   ]
  },
  {
   "cell_type": "markdown",
   "metadata": {
    "collapsed": true
   },
   "source": [
    "The error of an observed value is the deviation of the observed value from the true value of a quantity of interest\n",
    "\n",
    "The residual of an observed value is the difference between the observed value and the estimated value\n",
    "\n",
    "e.g. Population mean vs. sample mean"
   ]
  },
  {
   "cell_type": "markdown",
   "metadata": {},
   "source": [
    "## Accuracy (bias) and precision (variability)"
   ]
  },
  {
   "cell_type": "markdown",
   "metadata": {
    "collapsed": true
   },
   "source": [
    "Accuracy is the proximity of measurement results to the true value\n",
    "\n",
    "Precision is the repeatability, or reproducibility of the measurement"
   ]
  },
  {
   "cell_type": "markdown",
   "metadata": {},
   "source": [
    "## Type I and II errors, precision and recall"
   ]
  },
  {
   "cell_type": "markdown",
   "metadata": {},
   "source": [
    "true positive (TP): hit\n",
    "\n",
    "true negative (TN): correct rejection\n",
    "\n",
    "false positive (FP): false alarm, Type I error\n",
    "\n",
    "false negative (FN): miss, Type II error"
   ]
  },
  {
   "cell_type": "code",
   "execution_count": 75,
   "metadata": {
    "collapsed": false
   },
   "outputs": [
    {
     "data": {
      "text/html": [
       "<ol class=list-inline>\n",
       "\t<li>'b'</li>\n",
       "\t<li>'b'</li>\n",
       "\t<li>'a'</li>\n",
       "\t<li>'a'</li>\n",
       "\t<li>'b'</li>\n",
       "\t<li>'b'</li>\n",
       "\t<li>'b'</li>\n",
       "\t<li>'c'</li>\n",
       "\t<li>'a'</li>\n",
       "\t<li>'c'</li>\n",
       "\t<li>'b'</li>\n",
       "\t<li>'c'</li>\n",
       "\t<li>'b'</li>\n",
       "\t<li>'b'</li>\n",
       "\t<li>'a'</li>\n",
       "\t<li>'b'</li>\n",
       "\t<li>'a'</li>\n",
       "\t<li>'a'</li>\n",
       "\t<li>'b'</li>\n",
       "\t<li>'b'</li>\n",
       "\t<li>'b'</li>\n",
       "\t<li>'c'</li>\n",
       "\t<li>'a'</li>\n",
       "\t<li>'b'</li>\n",
       "\t<li>'c'</li>\n",
       "\t<li>'a'</li>\n",
       "\t<li>'b'</li>\n",
       "\t<li>'a'</li>\n",
       "\t<li>'a'</li>\n",
       "\t<li>'b'</li>\n",
       "\t<li>'a'</li>\n",
       "\t<li>'b'</li>\n",
       "\t<li>'b'</li>\n",
       "\t<li>'b'</li>\n",
       "\t<li>'c'</li>\n",
       "\t<li>'c'</li>\n",
       "\t<li>'c'</li>\n",
       "\t<li>'a'</li>\n",
       "\t<li>'a'</li>\n",
       "\t<li>'a'</li>\n",
       "</ol>\n"
      ],
      "text/latex": [
       "\\begin{enumerate*}\n",
       "\\item 'b'\n",
       "\\item 'b'\n",
       "\\item 'a'\n",
       "\\item 'a'\n",
       "\\item 'b'\n",
       "\\item 'b'\n",
       "\\item 'b'\n",
       "\\item 'c'\n",
       "\\item 'a'\n",
       "\\item 'c'\n",
       "\\item 'b'\n",
       "\\item 'c'\n",
       "\\item 'b'\n",
       "\\item 'b'\n",
       "\\item 'a'\n",
       "\\item 'b'\n",
       "\\item 'a'\n",
       "\\item 'a'\n",
       "\\item 'b'\n",
       "\\item 'b'\n",
       "\\item 'b'\n",
       "\\item 'c'\n",
       "\\item 'a'\n",
       "\\item 'b'\n",
       "\\item 'c'\n",
       "\\item 'a'\n",
       "\\item 'b'\n",
       "\\item 'a'\n",
       "\\item 'a'\n",
       "\\item 'b'\n",
       "\\item 'a'\n",
       "\\item 'b'\n",
       "\\item 'b'\n",
       "\\item 'b'\n",
       "\\item 'c'\n",
       "\\item 'c'\n",
       "\\item 'c'\n",
       "\\item 'a'\n",
       "\\item 'a'\n",
       "\\item 'a'\n",
       "\\end{enumerate*}\n"
      ],
      "text/markdown": [
       "1. 'b'\n",
       "2. 'b'\n",
       "3. 'a'\n",
       "4. 'a'\n",
       "5. 'b'\n",
       "6. 'b'\n",
       "7. 'b'\n",
       "8. 'c'\n",
       "9. 'a'\n",
       "10. 'c'\n",
       "11. 'b'\n",
       "12. 'c'\n",
       "13. 'b'\n",
       "14. 'b'\n",
       "15. 'a'\n",
       "16. 'b'\n",
       "17. 'a'\n",
       "18. 'a'\n",
       "19. 'b'\n",
       "20. 'b'\n",
       "21. 'b'\n",
       "22. 'c'\n",
       "23. 'a'\n",
       "24. 'b'\n",
       "25. 'c'\n",
       "26. 'a'\n",
       "27. 'b'\n",
       "28. 'a'\n",
       "29. 'a'\n",
       "30. 'b'\n",
       "31. 'a'\n",
       "32. 'b'\n",
       "33. 'b'\n",
       "34. 'b'\n",
       "35. 'c'\n",
       "36. 'c'\n",
       "37. 'c'\n",
       "38. 'a'\n",
       "39. 'a'\n",
       "40. 'a'\n",
       "\n",
       "\n"
      ],
      "text/plain": [
       " [1] \"b\" \"b\" \"a\" \"a\" \"b\" \"b\" \"b\" \"c\" \"a\" \"c\" \"b\" \"c\" \"b\" \"b\" \"a\" \"b\" \"a\" \"a\" \"b\"\n",
       "[20] \"b\" \"b\" \"c\" \"a\" \"b\" \"c\" \"a\" \"b\" \"a\" \"a\" \"b\" \"a\" \"b\" \"b\" \"b\" \"c\" \"c\" \"c\" \"a\"\n",
       "[39] \"a\" \"a\""
      ]
     },
     "metadata": {},
     "output_type": "display_data"
    },
    {
     "data": {
      "text/plain": [
       "      Predicted\n",
       "Actual  a  b  c\n",
       "     a 25  2  2\n",
       "     b  2 38  4\n",
       "     c  2  5 20"
      ]
     },
     "metadata": {},
     "output_type": "display_data"
    }
   ],
   "source": [
    "# let's make some data up by randomly sampling 100 times from the uniform distribution (runif)\n",
    "\n",
    "actual = c('a','b','c')[runif(100, 1,4)] # actual labels\n",
    "predicted = actual # predicted labels\n",
    "\n",
    "head(predicted, n=40)\n",
    "\n",
    "# now we're going to change 30 of them\n",
    "predicted[runif(30,1,100)] = actual[runif(30,1,100)]  # introduce incorrect predictions\n",
    "cm = as.matrix(table(Actual = actual, Predicted = predicted)) # create the confusion matrix\n",
    "cm"
   ]
  },
  {
   "cell_type": "code",
   "execution_count": 80,
   "metadata": {
    "collapsed": false
   },
   "outputs": [
    {
     "name": "stdout",
     "output_type": "stream",
     "text": [
      "[1] 100\n",
      "[1] 3\n",
      " a  b  c \n",
      "25 38 20 \n",
      "   a    b    c \n",
      "0.29 0.44 0.27 \n",
      "   a    b    c \n",
      "0.29 0.45 0.26 \n"
     ]
    }
   ],
   "source": [
    "n = sum(cm) # number of instances\n",
    "print(n)\n",
    "nc = nrow(cm) # number of classes\n",
    "print(nc)\n",
    "\n",
    "diag = diag(cm) # number of correctly classified instances per class \n",
    "print(diag)\n",
    "\n",
    "rowsums = apply(cm, 1, sum) # number of instances per class\n",
    "colsums = apply(cm, 2, sum) # number of predictions per class\n",
    "p = rowsums / n # distribution of instances over the actual classes\n",
    "q = colsums / n # distribution of instances over the predicted classes\n",
    "\n",
    "print(p)\n",
    "print(q)"
   ]
  },
  {
   "cell_type": "markdown",
   "metadata": {},
   "source": [
    "Accuracy = TP + TN / (TP + TN + FP + FN)"
   ]
  },
  {
   "cell_type": "code",
   "execution_count": 81,
   "metadata": {
    "collapsed": true
   },
   "outputs": [],
   "source": [
    "accuracy = sum(diag) / n "
   ]
  },
  {
   "cell_type": "markdown",
   "metadata": {},
   "source": [
    "Precision = TP / (TP + FP)"
   ]
  },
  {
   "cell_type": "code",
   "execution_count": 82,
   "metadata": {
    "collapsed": true
   },
   "outputs": [],
   "source": [
    "precision = diag / colsums "
   ]
  },
  {
   "cell_type": "markdown",
   "metadata": {},
   "source": [
    "Recall = TP / (TP + FN)"
   ]
  },
  {
   "cell_type": "code",
   "execution_count": 83,
   "metadata": {
    "collapsed": true
   },
   "outputs": [],
   "source": [
    "recall = diag / rowsums "
   ]
  },
  {
   "cell_type": "code",
   "execution_count": 84,
   "metadata": {
    "collapsed": false
   },
   "outputs": [
    {
     "name": "stdout",
     "output_type": "stream",
     "text": [
      "Accuracy: 0.83 , Precision: 0.862069 0.8444444 0.7692308 , Recall: 0.862069 0.8636364 0.7407407"
     ]
    }
   ],
   "source": [
    "cat(\"Accuracy:\",accuracy,\", Precision:\",precision,\", Recall:\",recall)"
   ]
  },
  {
   "cell_type": "markdown",
   "metadata": {},
   "source": [
    "# Confirmatory Statistics"
   ]
  },
  {
   "cell_type": "markdown",
   "metadata": {},
   "source": [
    "## Hypothesis testing"
   ]
  },
  {
   "cell_type": "markdown",
   "metadata": {},
   "source": [
    "A type I error is the mishap of falsely rejecting a null hypothesis when the null hypothesis is true. \n",
    "\n",
    "The probability of committing a type I error is called the significance level of the hypothesis testing, denoted $\\alpha$"
   ]
  },
  {
   "cell_type": "markdown",
   "metadata": {},
   "source": [
    "## Confidence Intervals for normally distributed data"
   ]
  },
  {
   "cell_type": "markdown",
   "metadata": {},
   "source": [
    "Given a sample mean, standard deviation, and the sample size, we wish to find the confidence interval on the mean."
   ]
  },
  {
   "cell_type": "markdown",
   "metadata": {},
   "source": [
    "$P ( s_{min} \\leq s_{meas} \\leq s_{max} ) = \\alpha$"
   ]
  },
  {
   "cell_type": "markdown",
   "metadata": {},
   "source": [
    "$\\alpha = 95\\%$"
   ]
  },
  {
   "cell_type": "markdown",
   "metadata": {},
   "source": [
    "A normally distributed RV spends 95% of its time within 1.96 of the mean, therefore the 97.5 quantile of the normal distribution can be used for alpha of 5%"
   ]
  },
  {
   "cell_type": "code",
   "execution_count": 85,
   "metadata": {
    "collapsed": false
   },
   "outputs": [
    {
     "name": "stdout",
     "output_type": "stream",
     "text": [
      "[1] -1.959964\n",
      "[1] 1.959964\n"
     ]
    }
   ],
   "source": [
    "alpha = 0.05\n",
    "print(qnorm(alpha/2))\n",
    "print(qnorm(1-(alpha/2)))"
   ]
  },
  {
   "cell_type": "code",
   "execution_count": 86,
   "metadata": {
    "collapsed": true
   },
   "outputs": [],
   "source": [
    "s.mu = 5 #sample mean\n",
    "s.sigma = 2 #sample standard deviation\n",
    "s.N = 20 #sample size"
   ]
  },
  {
   "cell_type": "markdown",
   "metadata": {},
   "source": [
    "$P ( \\mu_s − 1.96\\sigma_s \\leq s_{meas} \\leq \\mu_s + 1.96\\sigma_s ) = 95\\%$"
   ]
  },
  {
   "cell_type": "markdown",
   "metadata": {},
   "source": [
    "where $\\sigma_s$ is the standard error of the mean"
   ]
  },
  {
   "cell_type": "code",
   "execution_count": 87,
   "metadata": {
    "collapsed": false
   },
   "outputs": [],
   "source": [
    "s.se = s.sigma/sqrt(s.N) #standard error"
   ]
  },
  {
   "cell_type": "code",
   "execution_count": 88,
   "metadata": {
    "collapsed": false
   },
   "outputs": [
    {
     "name": "stdout",
     "output_type": "stream",
     "text": [
      "[1] 0.8765225\n"
     ]
    }
   ],
   "source": [
    "margin.of.error =  qnorm(1-(alpha/2))* s.se\n",
    "print(margin.of.error)"
   ]
  },
  {
   "cell_type": "code",
   "execution_count": 89,
   "metadata": {
    "collapsed": true
   },
   "outputs": [],
   "source": [
    "leftCI = s.mu-margin.of.error"
   ]
  },
  {
   "cell_type": "code",
   "execution_count": 90,
   "metadata": {
    "collapsed": true
   },
   "outputs": [],
   "source": [
    "rightCI = s.mu+margin.of.error"
   ]
  },
  {
   "cell_type": "code",
   "execution_count": 91,
   "metadata": {
    "collapsed": false
   },
   "outputs": [
    {
     "name": "stdout",
     "output_type": "stream",
     "text": [
      "The true mean has a probability of 95% of being in the interval between  4.123477  and  5.876523"
     ]
    }
   ],
   "source": [
    "cat(\"The true mean has a probability of 95% of being in the interval between \", leftCI, \" and \", rightCI)"
   ]
  },
  {
   "cell_type": "markdown",
   "metadata": {},
   "source": [
    "## Lower Tail Test of Population Mean with Unknown Variance"
   ]
  },
  {
   "cell_type": "markdown",
   "metadata": {},
   "source": [
    "Suppose we wanted to test for significant difference between a sample mean with a population mean from theory\n",
    "\n",
    "Our null hypothesis is\n",
    "\n",
    "$\\overline{X_n} \\geq \\mu_0$\n",
    "\n",
    "where $\\mu_0$ is a hypothesized lower bound of the true population mean $\\mu$.\n",
    "\n",
    "This is a 1-tail test because you are testing for statistical significance in only one direction of interest\n",
    "\n",
    "A one-tailed test will test either if the sample mean is significantly greater than or significantly less than $\\mu_0$, but not both. "
   ]
  },
  {
   "cell_type": "markdown",
   "metadata": {},
   "source": [
    "t = $\\frac{\\overline{X_n}-\\mu}{\\sigma/\\sqrt{n}}$"
   ]
  },
  {
   "cell_type": "markdown",
   "metadata": {},
   "source": [
    "Then the null hypothesis of the lower tail test is to be rejected if $t \\leq −t\\alpha$\n",
    "    \n",
    "where $t\\alpha$ is the 100(1 − $\\alpha$) percentile of the Student $t$ distribution with $n$ − 1 degrees of freedom."
   ]
  },
  {
   "cell_type": "code",
   "execution_count": 92,
   "metadata": {
    "collapsed": false
   },
   "outputs": [
    {
     "data": {
      "text/html": [
       "-4.47213595499958"
      ],
      "text/latex": [
       "-4.47213595499958"
      ],
      "text/markdown": [
       "-4.47213595499958"
      ],
      "text/plain": [
       "[1] -4.472136"
      ]
     },
     "metadata": {},
     "output_type": "display_data"
    }
   ],
   "source": [
    "#from above\n",
    "s.mu = 5 #sample mean\n",
    "s.sigma = 2 #sample standard deviation\n",
    "s.N = 20 #sample size\n",
    "\n",
    "mu0 = 7            # hypothesized value for population mean\n",
    "\n",
    "# compute the test statistic\n",
    "t = (s.mu - mu0)/(s.sigma/sqrt(s.N)) \n",
    "t"
   ]
  },
  {
   "cell_type": "markdown",
   "metadata": {},
   "source": [
    "### Degrees of freedom\n",
    "The number of independent observations in a sample minus \n",
    "the number of population parameters that must be estimated from sample data\n",
    "\n",
    "Here, the only population parameter is mu0, so df = n-1"
   ]
  },
  {
   "cell_type": "code",
   "execution_count": 93,
   "metadata": {
    "collapsed": false
   },
   "outputs": [
    {
     "data": {
      "text/html": [
       "-1.66039115601699"
      ],
      "text/latex": [
       "-1.66039115601699"
      ],
      "text/markdown": [
       "-1.66039115601699"
      ],
      "text/plain": [
       "[1] -1.660391"
      ]
     },
     "metadata": {},
     "output_type": "display_data"
    }
   ],
   "source": [
    "alpha = .05 \n",
    "t.alpha = qt(1-alpha, df=n-1) \n",
    "-t.alpha               # critical value "
   ]
  },
  {
   "cell_type": "markdown",
   "metadata": {},
   "source": [
    "The test statistic -4.47 is less than the critical value of -1.66 \n",
    "\n",
    "Hence, at .05 significance level, we can reject the claim that the population mean is 7"
   ]
  },
  {
   "cell_type": "markdown",
   "metadata": {
    "collapsed": true
   },
   "source": [
    "## Two-Tailed Test of Population Mean with Unknown Variance"
   ]
  },
  {
   "cell_type": "markdown",
   "metadata": {},
   "source": [
    "Now our null hypothesis is\n",
    "\n",
    "$\\overline{X_n} = \\mu_0$"
   ]
  },
  {
   "cell_type": "markdown",
   "metadata": {},
   "source": [
    "This is a 2-tail test because you are testing for statistical significance in both directions\n",
    "\n",
    "A two-tailed test will test either if the sample mean is **either** significantly greater than or significantly less than $\\mu_0$"
   ]
  },
  {
   "cell_type": "code",
   "execution_count": 94,
   "metadata": {
    "collapsed": false
   },
   "outputs": [
    {
     "data": {
      "text/html": [
       "<ol class=list-inline>\n",
       "\t<li>-1.98421695158642</li>\n",
       "\t<li>1.98421695158642</li>\n",
       "</ol>\n"
      ],
      "text/latex": [
       "\\begin{enumerate*}\n",
       "\\item -1.98421695158642\n",
       "\\item 1.98421695158642\n",
       "\\end{enumerate*}\n"
      ],
      "text/markdown": [
       "1. -1.98421695158642\n",
       "2. 1.98421695158642\n",
       "\n",
       "\n"
      ],
      "text/plain": [
       "[1] -1.984217  1.984217"
      ]
     },
     "metadata": {},
     "output_type": "display_data"
    }
   ],
   "source": [
    "t.half.alpha = qt(1-alpha/2, df=n-1) \n",
    "c(-t.half.alpha, t.half.alpha) "
   ]
  },
  {
   "cell_type": "markdown",
   "metadata": {},
   "source": [
    "The test statistic -4.47 does not lie between the critical values -1.98, and +1.98. \n",
    "\n",
    "Hence, at .05 significance level, we reject the null hypothesis that the sample mean does not differ from population mean"
   ]
  },
  {
   "cell_type": "markdown",
   "metadata": {},
   "source": [
    "## Last word: the p-value"
   ]
  },
  {
   "cell_type": "markdown",
   "metadata": {},
   "source": [
    "The p-value cannot tell you if your hypothesis is correct. \n",
    "Instead, it’s the probability of your data given your hypothesis. \n",
    "\n",
    "Is the pope Catholic? The answer is probably yes\n",
    "\n",
    "(data = there is a pope\n",
    "hypothesis = he is catholic)\n",
    "\n",
    "It is not the same thing as \"the probability of your hypothesis given your data\"\n",
    "\n",
    "Is a Catholic the pope? The answer is probably not. \n",
    "\n",
    "(data = there is a catholic\n",
    "hypothesis = he is the pope)\n",
    "\n",
    "Source: http://fivethirtyeight.com/features/statisticians-found-one-thing-they-can-agree-on-its-time-to-stop-misusing-p-values/"
   ]
  },
  {
   "cell_type": "code",
   "execution_count": null,
   "metadata": {
    "collapsed": true
   },
   "outputs": [],
   "source": [
    "##http://www.nature.com/news/statisticians-issue-warning-over-misuse-of-p-values-1.19503"
   ]
  },
  {
   "cell_type": "code",
   "execution_count": 2,
   "metadata": {
    "collapsed": true
   },
   "outputs": [],
   "source": [
    "##shell.exec(\"http://www.nature.com/nmeth/journal/v14/n1/pdf/nmeth.4120.pdf\")"
   ]
  },
  {
   "cell_type": "code",
   "execution_count": null,
   "metadata": {
    "collapsed": true
   },
   "outputs": [],
   "source": [
    "##https://fivethirtyeight.com/features/science-isnt-broken/#part1"
   ]
  }
 ],
 "metadata": {
  "anaconda-cloud": {},
  "kernelspec": {
   "display_name": "R",
   "language": "R",
   "name": "ir"
  },
  "language_info": {
   "codemirror_mode": "r",
   "file_extension": ".r",
   "mimetype": "text/x-r-source",
   "name": "R",
   "pygments_lexer": "r",
   "version": "3.3.2"
  }
 },
 "nbformat": 4,
 "nbformat_minor": 2
}
